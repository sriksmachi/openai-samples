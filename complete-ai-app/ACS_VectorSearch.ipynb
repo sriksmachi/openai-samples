{
 "cells": [
  {
   "cell_type": "code",
   "execution_count": 1,
   "metadata": {},
   "outputs": [
    {
     "name": "stdout",
     "output_type": "stream",
     "text": [
      "hotelname1\n",
      "{'additional_properties': {}, 'name': 'hotelname1', 'fields': [<azure.search.documents.indexes.models._index.SearchField object at 0x000001D3D62E3DF0>, <azure.search.documents.indexes.models._index.SearchField object at 0x000001D3D7B32400>, <azure.search.documents.indexes.models._index.SearchField object at 0x000001D3D7B32370>, <azure.search.documents.indexes.models._index.SearchField object at 0x000001D3D7B323A0>, <azure.search.documents.indexes.models._index.SearchField object at 0x000001D3D7B323D0>], 'vector_search': <azure.search.documents.indexes._generated.models._models_py3.VectorSearch object at 0x000001D3D7B324F0>, 'scoring_profiles': None, 'default_scoring_profile': None, 'cors_options': None, 'suggesters': None, 'analyzers': None, 'tokenizers': None, 'token_filters': None, 'char_filters': None, 'normalizers': None, 'encryption_key': None, 'similarity': None, 'semantic_settings': None, 'e_tag': None}\n",
      "<SearchClient [endpoint='https://cognitivesearch465.search.windows.net', index='hotelname1']>\n"
     ]
    },
    {
     "data": {
      "text/plain": [
       "[<azure.search.documents._generated.models._models_py3.IndexingResult at 0x1d3d82aba30>,\n",
       " <azure.search.documents._generated.models._models_py3.IndexingResult at 0x1d3d82abc70>,\n",
       " <azure.search.documents._generated.models._models_py3.IndexingResult at 0x1d3d82ab850>,\n",
       " <azure.search.documents._generated.models._models_py3.IndexingResult at 0x1d3d82abcd0>,\n",
       " <azure.search.documents._generated.models._models_py3.IndexingResult at 0x1d3d82abd30>]"
      ]
     },
     "execution_count": 1,
     "metadata": {},
     "output_type": "execute_result"
    }
   ],
   "source": [
    "import os\n",
    "\n",
    "from azure.core.credentials import AzureKeyCredential\n",
    "from azure.search.documents import SearchClient\n",
    "from azure.search.documents.indexes import SearchIndexClient\n",
    "\n",
    "service_endpoint =   os.getenv(\"AZURE_SEARCH_SERVICE_ENDPOINT\")\n",
    "index_name =   'hotelname1'  #os.getenv(\"AZURE_SEARCH_INDEX_NAME\")\n",
    "key =  os.getenv(\"AZURE_SEARCH_API_KEY\") \n",
    "\n",
    "\n",
    "def get_embeddings(text: str):\n",
    "    # There are a few ways to get embeddings. This is just one example.\n",
    "    import openai\n",
    "    open_ai_endpoint = os.getenv(\"OpenAIEndpoint\")\n",
    "    open_ai_key =  os.getenv(\"OpenAIKey\")\n",
    "\n",
    "    openai.api_version =   '2023-03-15-preview'#\"2022-12-01\"\n",
    "    openai.api_base = open_ai_endpoint\n",
    "    openai.api_type = \"azure\"\n",
    "    openai.api_key = open_ai_key\n",
    "    model_id =  \"opendemo1\" # \"text-embedding-ada-002\"\n",
    "    embedding = openai.Embedding.create(input=text, deployment_id=model_id)[\"data\"][0][\"embedding\"]\n",
    "    return embedding\n",
    "\n",
    "\n",
    "def get_hotel_index(name: str):\n",
    "    from azure.search.documents.indexes.models import (\n",
    "        SearchIndex,\n",
    "        SearchField,\n",
    "        SearchFieldDataType,\n",
    "        SimpleField,\n",
    "        SearchableField,\n",
    "        VectorSearch,\n",
    "        VectorSearchAlgorithmConfiguration,\n",
    "    )\n",
    "\n",
    "    fields = [\n",
    "        SimpleField(name=\"hotelId\", type=SearchFieldDataType.String, key=True),\n",
    "        SearchableField(name=\"hotelName\", type=SearchFieldDataType.String, sortable=True, filterable=True),\n",
    "        SearchableField(name=\"description\", type=SearchFieldDataType.String),\n",
    "        SearchField(\n",
    "            name=\"DescriptionVector\",\n",
    "            type=SearchFieldDataType.Collection(SearchFieldDataType.Single),\n",
    "            searchable=True,\n",
    "            vector_search_dimensions=1536,\n",
    "            vector_search_configuration=\"my-vector-config\",\n",
    "        ),\n",
    "        SearchableField(\n",
    "            name=\"category\", type=SearchFieldDataType.String, sortable=True, filterable=True, facetable=True\n",
    "        ),\n",
    "    ]\n",
    "    vector_search = VectorSearch(\n",
    "        algorithm_configurations=[VectorSearchAlgorithmConfiguration(name=\"my-vector-config\", kind=\"hnsw\")]\n",
    "    )\n",
    "    return SearchIndex(name=name, fields=fields, vector_search=vector_search)\n",
    "\n",
    "\n",
    "def get_hotel_documents():\n",
    "    docs = [\n",
    "        {\n",
    "            \"hotelId\": \"1\",\n",
    "            \"hotelName\": \"Fancy Stay\",\n",
    "            \"description\": \"Best hotel in town if you like luxury hotels.\",\n",
    "            \"DescriptionVector\": get_embeddings(\"Best hotel in town if you like luxury hotels.\"),\n",
    "            \"category\": \"Luxury\",\n",
    "        },\n",
    "        {\n",
    "            \"HotelId\": \"2\",\n",
    "            \"HotelName\": \"Roach Motel\",\n",
    "            \"Description\": \"Cheapest hotel in town. Infact, a motel.\",\n",
    "            \"DescriptionVector\": get_embeddings(\"Cheapest hotel in town. Infact, a motel.\"),\n",
    "            \"Category\": \"Budget\",\n",
    "        },\n",
    "        {\n",
    "            \"HotelId\": \"3\",\n",
    "            \"HotelName\": \"EconoStay\",\n",
    "            \"Description\": \"Very popular hotel in town.\",\n",
    "            \"DescriptionVector\": get_embeddings(\"Very popular hotel in town.\"),\n",
    "            \"Category\": \"Budget\",\n",
    "        },\n",
    "        {\n",
    "            \"HotelId\": \"4\",\n",
    "            \"HotelName\": \"Modern Stay\",\n",
    "            \"Description\": \"Modern architecture, very polite staff and very clean. Also very affordable.\",\n",
    "            \"DescriptionVector\": get_embeddings(\n",
    "                \"Modern architecture, very polite staff and very clean. Also very affordable.\"\n",
    "            ),\n",
    "            \"Category\": \"Luxury\",\n",
    "        },\n",
    "        {\n",
    "            \"HotelId\": \"5\",\n",
    "            \"HotelName\": \"Secret Point\",\n",
    "            \"Description\": \"One of the best hotel in town. The hotel is ideally located on the main commercial artery of the city in the heart of New York.\",\n",
    "            \"DescriptionVector\": get_embeddings(\n",
    "                \"One of the best hotel in town. The hotel is ideally located on the main commercial artery of the city in the heart of New York.\"\n",
    "            ),\n",
    "            \"Category\": \"Boutique\",\n",
    "        },\n",
    "    ]\n",
    "    return docs\n",
    "\n",
    "\n",
    "def single_vector_search():\n",
    "    # [START single_vector_search]\n",
    "    query = \"Top hotels in town\"\n",
    "\n",
    "    search_client = SearchClient(service_endpoint, index_name, AzureKeyCredential(key))\n",
    "\n",
    "    results = search_client.search(\n",
    "        search_text=\"\",\n",
    "        vector=get_embeddings(query),\n",
    "        top_k=3,\n",
    "        vector_fields=\"DescriptionVector\",\n",
    "        select=[\"hotelId\", \"hotelName\"],\n",
    "    )\n",
    "\n",
    "    for result in results:\n",
    "        print(result)\n",
    "    # [END single_vector_search]\n",
    "\n",
    "\n",
    "def single_vector_search_with_filter():\n",
    "    # [START single_vector_search_with_filter]\n",
    "    query = \"Top hotels in town\"\n",
    "\n",
    "    search_client = SearchClient(service_endpoint, index_name, AzureKeyCredential(key))\n",
    "\n",
    "    results = search_client.search(\n",
    "        search_text=\"\",\n",
    "        vector=get_embeddings(query),\n",
    "        top_k=3,\n",
    "        vector_fields=\"DescriptionVector\",\n",
    "        filter=\"category eq 'Luxury'\",\n",
    "        select=[\"hotelId\", \"hotelName\"],\n",
    "    )\n",
    "\n",
    "    for result in results:\n",
    "        print(result)\n",
    "    # [END single_vector_search_with_filter]\n",
    "\n",
    "\n",
    "def simple_hybrid_search():\n",
    "    # [START simple_hybrid_search]\n",
    "    query = \"Top hotels in town\"\n",
    "\n",
    "    search_client = SearchClient(service_endpoint, index_name, AzureKeyCredential(key))\n",
    "\n",
    "    results = search_client.search(\n",
    "        search_text=query,\n",
    "        vector=get_embeddings(query),\n",
    "        top_k=3,\n",
    "        vector_fields=\"DescriptionVector\",\n",
    "        select=[\"hotelId\", \"hotelName\"],\n",
    "    )\n",
    "    print(results.get_answers())\n",
    "    for result in results:\n",
    "        print(result)\n",
    "    # [END simple_hybrid_search]\n",
    "\n",
    "\n",
    "credential = AzureKeyCredential(key)\n",
    "index_client = SearchIndexClient(service_endpoint, credential)\n",
    "print(index_name)\n",
    "index = get_hotel_index(index_name)\n",
    "print(index)\n",
    "index_client.create_index(index)\n",
    "client = SearchClient(service_endpoint, index_name, credential)\n",
    "print(client)\n",
    "hotel_docs = get_hotel_documents()\n",
    "client.upload_documents(documents=hotel_docs)"
   ]
  },
  {
   "cell_type": "code",
   "execution_count": 2,
   "metadata": {},
   "outputs": [
    {
     "name": "stdout",
     "output_type": "stream",
     "text": [
      "{'hotelName': 'EconoStay', 'hotelId': '3', '@search.score': 0.92625886, '@search.reranker_score': None, '@search.highlights': None, '@search.captions': None}\n",
      "{'hotelName': 'Fancy Stay', 'hotelId': '1', '@search.score': 0.9141687, '@search.reranker_score': None, '@search.highlights': None, '@search.captions': None}\n",
      "{'hotelName': 'Secret Point', 'hotelId': '5', '@search.score': 0.88500524, '@search.reranker_score': None, '@search.highlights': None, '@search.captions': None}\n"
     ]
    }
   ],
   "source": [
    "single_vector_search()"
   ]
  },
  {
   "cell_type": "code",
   "execution_count": 3,
   "metadata": {},
   "outputs": [
    {
     "name": "stdout",
     "output_type": "stream",
     "text": [
      "{'hotelName': 'Fancy Stay', 'hotelId': '1', '@search.score': 0.9141687, '@search.reranker_score': None, '@search.highlights': None, '@search.captions': None}\n",
      "{'hotelName': 'Modern Stay', 'hotelId': '4', '@search.score': 0.85241705, '@search.reranker_score': None, '@search.highlights': None, '@search.captions': None}\n"
     ]
    }
   ],
   "source": [
    "single_vector_search_with_filter()"
   ]
  },
  {
   "cell_type": "code",
   "execution_count": 4,
   "metadata": {},
   "outputs": [
    {
     "name": "stdout",
     "output_type": "stream",
     "text": [
      "None\n",
      "{'hotelName': 'EconoStay', 'hotelId': '3', '@search.score': 0.03253968432545662, '@search.reranker_score': None, '@search.highlights': None, '@search.captions': None}\n",
      "{'hotelName': 'Fancy Stay', 'hotelId': '1', '@search.score': 0.032522473484277725, '@search.reranker_score': None, '@search.highlights': None, '@search.captions': None}\n",
      "{'hotelName': 'Secret Point', 'hotelId': '5', '@search.score': 0.032522473484277725, '@search.reranker_score': None, '@search.highlights': None, '@search.captions': None}\n",
      "{'hotelName': 'Roach Motel', 'hotelId': '2', '@search.score': 0.01666666753590107, '@search.reranker_score': None, '@search.highlights': None, '@search.captions': None}\n"
     ]
    }
   ],
   "source": [
    "simple_hybrid_search()"
   ]
  },
  {
   "cell_type": "code",
   "execution_count": null,
   "metadata": {},
   "outputs": [],
   "source": []
  }
 ],
 "metadata": {
  "kernelspec": {
   "display_name": "tf",
   "language": "python",
   "name": "python3"
  },
  "language_info": {
   "codemirror_mode": {
    "name": "ipython",
    "version": 3
   },
   "file_extension": ".py",
   "mimetype": "text/x-python",
   "name": "python",
   "nbconvert_exporter": "python",
   "pygments_lexer": "ipython3",
   "version": "3.9.7"
  },
  "orig_nbformat": 4
 },
 "nbformat": 4,
 "nbformat_minor": 2
}
