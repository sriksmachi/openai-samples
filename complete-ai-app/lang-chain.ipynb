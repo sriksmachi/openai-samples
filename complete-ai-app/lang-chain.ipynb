{
 "cells": [
  {
   "attachments": {},
   "cell_type": "markdown",
   "metadata": {},
   "source": [
    "# Build an end-to-end Langchain Applications with Azure Open AI"
   ]
  },
  {
   "cell_type": "code",
   "execution_count": 129,
   "metadata": {},
   "outputs": [],
   "source": [
    "import os\n",
    "from dotenv import load_dotenv\n",
    "import openai\n",
    "import langchain\n",
    "from langchain import PromptTemplate\n",
    "from langchain.llms import OpenAI\n",
    "\n",
    "from langchain import OpenAI, SQLDatabase\n",
    "from langchain.agents.agent_toolkits import SQLDatabaseToolkit\n",
    "from langchain.agents import create_sql_agent\n",
    "from langchain.embeddings import OpenAIEmbeddings\n",
    "from langchain.utilities import SerpAPIWrapper\n",
    "from langchain.agents import initialize_agent, AgentType, Tool\n",
    "from langchain.llms import OpenAI\n",
    "from langchain.utilities import SerpAPIWrapper\n",
    "from langchain.chains import LLMMathChain, LLMChain, RetrievalQA, SequentialChain, TransformChain\n",
    "from langchain.vectorstores.azuresearch import AzureSearch\n",
    "from langchain.document_loaders import TextLoader, DirectoryLoader\n",
    "from langchain.text_splitter import CharacterTextSplitter\n",
    "from langchain.embeddings.openai import OpenAIEmbeddings\n",
    "from pydantic import BaseModel, Field, validator\n",
    "from langchain.output_parsers import PydanticOutputParser"
   ]
  },
  {
   "cell_type": "code",
   "execution_count": 130,
   "metadata": {},
   "outputs": [],
   "source": [
    "# Azure\n",
    "load_dotenv()\n",
    "\n",
    "OPENAI_API_KEY = os.getenv(\"OPENAI_API_KEY\")\n",
    "OPENAI_DEPLOYMENT_ENDPOINT = os.getenv(\"OPENAI_DEPLOYMENT_ENDPOINT\")\n",
    "OPENAI_DEPLOYMENT_NAME = os.getenv(\"OPENAI_DEPLOYMENT_NAME\")\n",
    "OPENAI_MODEL_NAME = os.getenv(\"OPENAI_MODEL_NAME\")\n",
    "OPENAI_API_VERSION = os.getenv(\"OPENAI_API_VERSION\")\n",
    "OPENAI_EMBEDDING_DEPLOYMENT_NAME = os.getenv(\"OPENAI_EMBEDDING_DEPLOYMENT_NAME\")\n",
    "OPENAI_EMBEDDING_MODEL_NAME = os.getenv(\"OPENAI_EMBEDDING_MODEL_NAME\")\n",
    "OPENAI_DEPLOYMENT_VERSION = os.getenv(\"OPENAI_DEPLOYMENT_VERSION\")\n",
    "OPENAI_EMBEDDING_VERSION = os.getenv(\"OPENAI_EMBEDDING_VERSION\")\n",
    "\n",
    "# SQL\n",
    "database_user = os.getenv(\"DATABASE_USERNAME\")\n",
    "database_password = os.getenv(\"DATABASE_PASSWORD\")\n",
    "database_server = os.getenv(\"DATABASE_SERVER\")\n",
    "database_db = os.getenv(\"DATABASE_DB\")\n",
    "\n",
    "# SerpAPI\n",
    "search = SerpAPIWrapper(serpapi_api_key = os.getenv(\"SERPER_API_KEY\"))\n",
    "\n",
    "# cognitive service\n",
    "vector_store_address = os.getenv(\"VECTOR_STORE_ADDRESS\")\n",
    "vector_store_password = os.getenv(\"VECTOR_STORE_PASSWORD\")\n",
    "\n",
    "#init Azure OpenAI\n",
    "openai.api_type = \"azure\"\n",
    "openai.api_version = OPENAI_DEPLOYMENT_VERSION\n",
    "openai.api_base = OPENAI_DEPLOYMENT_ENDPOINT\n",
    "openai.api_key = OPENAI_API_KEY"
   ]
  },
  {
   "cell_type": "code",
   "execution_count": 131,
   "metadata": {},
   "outputs": [
    {
     "name": "stderr",
     "output_type": "stream",
     "text": [
      "WARNING! engine is not default parameter.\n",
      "                    engine was transferred to model_kwargs.\n",
      "                    Please confirm that engine is what you intended.\n"
     ]
    },
    {
     "data": {
      "text/plain": [
       "'\\n\\nQ: What did the fish say when it hit the wall?\\nA: Dam!'"
      ]
     },
     "execution_count": 131,
     "metadata": {},
     "output_type": "execute_result"
    }
   ],
   "source": [
    "llm = OpenAI(engine=\"text-davinci-003\", temperature=0)\n",
    "llm(\"Tell me a joke\")"
   ]
  },
  {
   "attachments": {},
   "cell_type": "markdown",
   "metadata": {},
   "source": [
    "## 1. Querying Transactional datastores"
   ]
  },
  {
   "cell_type": "code",
   "execution_count": 132,
   "metadata": {},
   "outputs": [],
   "source": [
    "connection_string = f\"mssql+pymssql://{database_user}:{database_password}@{database_server}.database.windows.net:1433/{database_db}\"\n",
    "db = SQLDatabase.from_uri(connection_string)\n",
    "toolkit = SQLDatabaseToolkit(db=db, llm=llm, reduce_k_below_max_tokens=True)\n",
    "agent_executor = create_sql_agent(\n",
    "    llm=llm,\n",
    "    toolkit=toolkit,\n",
    "    verbose=True\n",
    ")"
   ]
  },
  {
   "attachments": {},
   "cell_type": "markdown",
   "metadata": {},
   "source": [
    "## 2. Populate Vector DB with Embeddings"
   ]
  },
  {
   "cell_type": "code",
   "execution_count": 133,
   "metadata": {},
   "outputs": [
    {
     "name": "stderr",
     "output_type": "stream",
     "text": [
      "100%|██████████| 3/3 [00:01<00:00,  2.12it/s]\n"
     ]
    }
   ],
   "source": [
    "model = 'text-embedding-ada-002'\n",
    "os.environ[\"OPENAI_API_VERSION\"] = os.getenv(\"OPENAI_EMBEDDING_VERSION\")\n",
    "index_name: str = \"langchain-vector-demo\"\n",
    "embeddings: OpenAIEmbeddings = OpenAIEmbeddings(deployment=model, chunk_size=1)\n",
    "vector_store: AzureSearch = AzureSearch(\n",
    "    azure_search_endpoint=vector_store_address,\n",
    "    azure_search_key=vector_store_password,\n",
    "    index_name=index_name,\n",
    "    embedding_function=embeddings.embed_query,\n",
    ")\n",
    "loader = DirectoryLoader('./data', glob='*.pdf', show_progress=True)\n",
    "documents = loader.load()\n",
    "text_splitter = CharacterTextSplitter(chunk_size=1000, chunk_overlap=0)\n",
    "docs = text_splitter.split_documents(documents)\n",
    "list_of_docs = vector_store.add_documents(documents=docs)\n"
   ]
  },
  {
   "cell_type": "code",
   "execution_count": 134,
   "metadata": {},
   "outputs": [
    {
     "name": "stdout",
     "output_type": "stream",
     "text": [
      "Located in the heart of city, set on a 300 acre area, Cubbon Park is a great place to laze around in the lush green paradise. It has a treasure of different species of exotic plants. The park was named after the erstwhile Commissioner of Bangalore, Sir Mark Cubbon. Many ornamental and flowering trees, both exotic and indigenous, can be found in the park. It's a popular place for walkers, joggers, and nature lovers. Bal Bhavan in the park is a great place for the kids to enjoy. An aquarium is also located in Cubbon Park, with many varieties of exotic and ornamental fish.\n",
      "\n",
      "Ulsoor Lake\n"
     ]
    }
   ],
   "source": [
    "# Perform a similarity search\n",
    "docs = vector_store.similarity_search(\n",
    "    query=\"What are some good locations in bengaluru to visit?\",\n",
    "    k=3,\n",
    "    search_type=\"similarity\",\n",
    ")\n",
    "\n",
    "print(docs[0].page_content)"
   ]
  },
  {
   "attachments": {},
   "cell_type": "markdown",
   "metadata": {},
   "source": [
    "## 3. Lang Chain (Prompt Templates, Chaining, Agents)"
   ]
  },
  {
   "cell_type": "code",
   "execution_count": 135,
   "metadata": {},
   "outputs": [],
   "source": [
    "class QueryInput(BaseModel):\n",
    "    Source: str\n",
    "    Destination: str\n",
    "    Pax: int\n",
    "    Date: str\n",
    "    \n",
    "parser = PydanticOutputParser(pydantic_object=QueryInput)\n",
    "\n",
    "def parse_output(inputs: dict) -> dict:\n",
    "    text = inputs[\"json_string\"]\n",
    "    d = parser.parse(text)\n",
    "    return {\"Source\" : d.Source, \"Destination\" : d.Destination, \"Pax\": d.Pax, \"Date\": d.Date}\n",
    "\n",
    "def run(user_query, llm, vector_store):\n",
    "    \n",
    "   prompt = \"\"\"\n",
    "   Extract source, destination, number of people as 'Pax' and date of travel as 'Date' from below provided text.\n",
    "   Provide information as json\n",
    "   text: {input}\n",
    "   \"\"\"\n",
    "   \n",
    "   promptEngine = PromptTemplate(\n",
    "       input_variables=[\"input\"],\n",
    "       template=prompt       \n",
    "   )\n",
    "   \n",
    "   parse_chain = LLMChain(llm=llm, prompt=promptEngine, output_key=\"json_string\")\n",
    "   \n",
    "   transform_chain = TransformChain(input_variables=[\"json_string\"], output_variables=[\"Source\", \"Destination\", \"Pax\", \"Date\"],  transform=parse_output)\n",
    "   \n",
    "   # query database for available flights\n",
    "   sql_template = \"\"\"You are an expert trip adviser. \\\n",
    "       Give me a complete itinerary for the trip with the total price using cheapest flight, places to visit in the destination city.\n",
    "       Find 2 flights from {Source} to {Destination}. Fine the cheapest flight. Find the total price for {Pax} passengers. \\\n",
    "       Find the weather in {Destination} on {Date} in degrees celsius only. \\\n",
    "       Respond with complete itinerary in a list format for the trip with the total price using cheapest flight, weather in degrees celsius and top 5 places to visit in the destination city.\"\"\"\n",
    "   \n",
    "   sql_prompt_template = PromptTemplate(input_variables=[\"Source\", \"Destination\", 'Pax', 'Date'], template=sql_template)\n",
    "   \n",
    "   # get weather information using serp api.\n",
    "   search = SerpAPIWrapper(serpapi_api_key = os.getenv(\"SERPER_API_KEY\"))\n",
    "   \n",
    "   # get math information using LLM math chain\n",
    "   llm_math = LLMMathChain.from_llm(llm=llm)\n",
    "   \n",
    "   # get information about places to visit using retrieval QA and vector store\n",
    "   places_to_visit = RetrievalQA.from_chain_type(\n",
    "       llm=llm, chain_type=\"stuff\", retriever=vector_store.as_retriever()\n",
    "   )\n",
    "   \n",
    "   tools = [\n",
    "       Tool(\n",
    "           name = \"Search\",\n",
    "           func = search.run,\n",
    "           description = '''useful for when you need to answer questions about current events,\n",
    "               getting weather forecast infomation like temperature and humidity\n",
    "               do not use this for searching flight information\n",
    "               do not use this for searching information about places to visit\n",
    "               '''\n",
    "       ),\n",
    "       Tool(\n",
    "           name = 'Calculator',\n",
    "           func = llm_math.run,\n",
    "           description = 'Useful for when you need to answer questions about math. Use for converting from degrees celcius to fahrenheit'\n",
    "       ),\n",
    "       Tool(\n",
    "           name = 'SQL',\n",
    "           func = agent_executor.run,\n",
    "           description='''Useful when you need to search flights using source, destination, pax only. \n",
    "           Use to find the cheapest flight. Use to find the total price for pax passengers.\n",
    "           do not use this for searching information about places to visit           \n",
    "           '''\n",
    "       ),\n",
    "       Tool(\n",
    "           name = 'vector_store',\n",
    "           func = places_to_visit.run,\n",
    "           description = 'Useful when you need to find places to visit in a city'\n",
    "       )\n",
    "   ]\n",
    "   \n",
    "   agent = initialize_agent(\n",
    "       tools,\n",
    "       llm,\n",
    "       agent=AgentType.STRUCTURED_CHAT_ZERO_SHOT_REACT_DESCRIPTION,\n",
    "       verbose = True\n",
    "   )\n",
    "   \n",
    "   overall_chain = SequentialChain(\n",
    "       chains=[parse_chain, transform_chain],\n",
    "       output_variables=[\"Source\", \"Destination\", 'Pax', 'Date'],\n",
    "       input_variables=[\"input\"],\n",
    "       verbose=True\n",
    "   )\n",
    "     \n",
    "   inputs  = overall_chain(user_query)\n",
    "   \n",
    "   final_prompt = sql_prompt_template.format(Source=inputs[\"Source\"], Destination = inputs[\"Destination\"], Pax = inputs[\"Pax\"], Date = inputs[\"Date\"])\n",
    "   \n",
    "   print(f'final prompt: {final_prompt}')\n",
    "   \n",
    "   final_output = agent.run(final_prompt)\n",
    "   \n",
    "   return final_output\n",
    "    "
   ]
  },
  {
   "cell_type": "code",
   "execution_count": 137,
   "metadata": {},
   "outputs": [
    {
     "name": "stdout",
     "output_type": "stream",
     "text": [
      "\n",
      "\n",
      "\u001b[1m> Entering new  chain...\u001b[0m\n",
      "\n",
      "\u001b[1m> Finished chain.\u001b[0m\n",
      "final prompt: You are an expert trip adviser.        Give me a complete itinerary for the trip with the total price using cheapest flight, places to visit in the destination city.\n",
      "       Find 2 flights from Hyderabad to Goa. Fine the cheapest flight. Find the total price for 3 passengers.        Find the weather in Goa on 29th July, 2023 in degrees celsius.        Respond with complete itinerary in a list format for the trip with the total price using cheapest flight, weather in degrees celsius and top 5 places to visit in the destination city.\n",
      "\n",
      "\n",
      "\u001b[1m> Entering new  chain...\u001b[0m\n",
      "\u001b[32;1m\u001b[1;3m\n",
      "Action:\n",
      "```\n",
      "{\n",
      "  \"action\": \"SQL\",\n",
      "  \"action_input\": \"Find 2 flights from Hyderabad to Goa. Find the cheapest flight. Find the total price for 3 passengers.\"\n",
      "}\n",
      "```\n",
      "\u001b[0m\n",
      "\n",
      "\u001b[1m> Entering new  chain...\u001b[0m\n",
      "\u001b[32;1m\u001b[1;3mAction: sql_db_list_tables\n",
      "Action Input: \u001b[0m\n",
      "Observation: \u001b[38;5;200m\u001b[1;3mflights\u001b[0m\n",
      "Thought:\u001b[32;1m\u001b[1;3m I should query the schema of the flights table.\n",
      "Action: sql_db_schema\n",
      "Action Input: flights\u001b[0m\n",
      "Observation: \u001b[33;1m\u001b[1;3m\n",
      "CREATE TABLE flights (\n",
      "\tid INTEGER NOT NULL IDENTITY(1,1), \n",
      "\tsource NVARCHAR(50) COLLATE SQL_Latin1_General_CP1_CI_AS NULL, \n",
      "\tdestination NVARCHAR(50) COLLATE SQL_Latin1_General_CP1_CI_AS NULL, \n",
      "\tprice INTEGER NULL, \n",
      "\tdeparture NVARCHAR(50) COLLATE SQL_Latin1_General_CP1_CI_AS NULL, \n",
      "\tarrival NVARCHAR(50) COLLATE SQL_Latin1_General_CP1_CI_AS NULL, \n",
      "\tnumberofstops NVARCHAR(50) COLLATE SQL_Latin1_General_CP1_CI_AS NULL, \n",
      "\tdate NVARCHAR(50) COLLATE SQL_Latin1_General_CP1_CI_AS NULL, \n",
      "\tCONSTRAINT [PK_flights] PRIMARY KEY (id)\n",
      ")\n",
      "\n",
      "/*\n",
      "3 rows from flights table:\n",
      "id\tsource\tdestination\tprice\tdeparture\tarrival\tnumberofstops\tdate\n",
      "1\thyderabad\tbangalore\t5678\t0700\t0800\t0\t29-07-2023\n",
      "2\thyderabad\tgoa\t4653\t0600\t0830\t0\t29-07-2023\n",
      "3\tbangalore\tgoa\t1234\t0500\t0700\t0\t29-07-2023\n",
      "*/\u001b[0m\n",
      "Thought:\u001b[32;1m\u001b[1;3m I should query the flights table for flights from Hyderabad to Goa.\n",
      "Action: sql_db_query\n",
      "Action Input: SELECT TOP 2 * FROM flights WHERE source = 'hyderabad' AND destination = 'goa' ORDER BY price ASC\u001b[0m\n",
      "Observation: \u001b[36;1m\u001b[1;3m[(2, 'hyderabad', 'goa', 4653, '0600', '0830', '0', '29-07-2023')]\u001b[0m\n",
      "Thought:\u001b[32;1m\u001b[1;3m I now know the cheapest flight from Hyderabad to Goa.\n",
      "Final Answer: The cheapest flight from Hyderabad to Goa is 4653 for 3 passengers.\u001b[0m\n",
      "\n",
      "\u001b[1m> Finished chain.\u001b[0m\n",
      "\n",
      "Observation: \u001b[38;5;200m\u001b[1;3mThe cheapest flight from Hyderabad to Goa is 4653 for 3 passengers.\u001b[0m\n",
      "Thought:\u001b[32;1m\u001b[1;3m Find the weather in Goa on 29th July, 2023 in degrees celsius.\n",
      "Action:\n",
      "```\n",
      "{\n",
      "  \"action\": \"Search\",\n",
      "  \"action_input\": \"Weather in Goa on 29th July, 2023 in degrees celsius\"\n",
      "}\n",
      "```\n",
      "\n",
      "\u001b[0m\n",
      "Observation: \u001b[36;1m\u001b[1;3mThe weather in Goa in July is very hot. The average temperatures are between 77°F and 82°F, drinking water regularly is advisable.\u001b[0m\n",
      "Thought:\u001b[32;1m\u001b[1;3m Find top 5 places to visit in the destination city.\n",
      "Action:\n",
      "```\n",
      "{\n",
      "  \"action\": \"vector_store\",\n",
      "  \"action_input\": \"Find top 5 places to visit in Goa\"\n",
      "}\n",
      "```\n",
      "\n",
      "\u001b[0m\n",
      "Observation: \u001b[36;1m\u001b[1;3m The top 5 places to visit in Goa are Agonda Beach, Goa Cavelossim Beach, Mandrem Beach, Anjuna Beach/Market, and Baga Beach.\u001b[0m\n",
      "Thought:\u001b[32;1m\u001b[1;3m I know what to respond\n",
      "Action:\n",
      "```\n",
      "{\n",
      "  \"action\": \"Final Answer\",\n",
      "  \"action_input\": \"The cheapest flight from Hyderabad to Goa is 4653 for 3 passengers. The weather in Goa in July is very hot. The average temperatures are between 77°F and 82°F, drinking water regularly is advisable. The top 5 places to visit in Goa are Agonda Beach, Goa Cavelossim Beach, Mandrem Beach, Anjuna Beach/Market, and Baga Beach.\"\n",
      "}\n",
      "```\u001b[0m\n",
      "\n",
      "\u001b[1m> Finished chain.\u001b[0m\n"
     ]
    },
    {
     "data": {
      "text/plain": [
       "'The cheapest flight from Hyderabad to Goa is 4653 for 3 passengers. The weather in Goa in July is very hot. The average temperatures are between 77°F and 82°F, drinking water regularly is advisable. The top 5 places to visit in Goa are Agonda Beach, Goa Cavelossim Beach, Mandrem Beach, Anjuna Beach/Market, and Baga Beach.'"
      ]
     },
     "execution_count": 137,
     "metadata": {},
     "output_type": "execute_result"
    }
   ],
   "source": [
    "user_query = 'Two of my friends and I are travelling from Hyderabad to goa on 29th July, 2023.'\n",
    "final_output = run(user_query, llm, vector_store)\n",
    "final_output"
   ]
  }
 ],
 "metadata": {
  "kernelspec": {
   "display_name": ".venv",
   "language": "python",
   "name": "python3"
  },
  "language_info": {
   "codemirror_mode": {
    "name": "ipython",
    "version": 3
   },
   "file_extension": ".py",
   "mimetype": "text/x-python",
   "name": "python",
   "nbconvert_exporter": "python",
   "pygments_lexer": "ipython3",
   "version": "3.11.4"
  },
  "orig_nbformat": 4
 },
 "nbformat": 4,
 "nbformat_minor": 2
}
