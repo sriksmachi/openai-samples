{
 "cells": [
  {
   "cell_type": "code",
   "execution_count": 5,
   "metadata": {},
   "outputs": [
    {
     "name": "stdout",
     "output_type": "stream",
     "text": [
      "160\n"
     ]
    }
   ],
   "source": [
    "import tiktoken\n",
    "\n",
    "def num_tokens_from_string(string: str, encoding_name: str) -> int:\n",
    "    \"\"\"Returns the number of tokens in a text string.\"\"\"\n",
    "    encoding = tiktoken.get_encoding(encoding_name)\n",
    "    num_tokens = len(encoding.encode(string))\n",
    "    return num_tokens\n",
    "\n",
    "sample_text = \"Generate a multiple choice quiz from the text below. Quiz should contain at least 3 questions. Each answer choice should be on a separate line, with a blank line separating each question.\\n\\n Azure App Service is a fully managed platform for building, deploying, and scaling web apps, mobile apps, and APIs. It provides a range of features and capabilities to help developers quickly create and deploy applications, including support for multiple programming languages, frameworks, and tools, as well as built-in DevOps capabilities for continuous integration and deployment. Azure App Service also offers automatic scaling and high availability, enabling applications to handle sudden spikes in traffic or demand without downtime. It can be used to host a wide range of applications, including web applications, mobile backends, RESTful APIs, and serverless functions.\"\n",
    "# for other encoding names, see https://github.com/openai/openai-cookbook/blob/main/examples/How_to_count_tokens_with_tiktoken.ipynb\n",
    "encoding = \"r50k_base\"\n",
    "\n",
    "print(num_tokens_from_string(sample_text, encoding))\n"
   ]
  }
 ],
 "metadata": {
  "kernelspec": {
   "display_name": "Python 3",
   "language": "python",
   "name": "python3"
  },
  "language_info": {
   "codemirror_mode": {
    "name": "ipython",
    "version": 3
   },
   "file_extension": ".py",
   "mimetype": "text/x-python",
   "name": "python",
   "nbconvert_exporter": "python",
   "pygments_lexer": "ipython3",
   "version": "3.9.1"
  },
  "orig_nbformat": 4
 },
 "nbformat": 4,
 "nbformat_minor": 2
}
