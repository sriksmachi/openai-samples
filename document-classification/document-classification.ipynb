{
 "cells": [
  {
   "attachments": {},
   "cell_type": "markdown",
   "metadata": {},
   "source": [
    "# Fine tuning Azure Open AI Models for Data classification problem\n",
    "\n",
    "In this notebook we will learn to fine tune Azure open AI models to perform a data classification.\n",
    "\n",
    "For data classifiction using Open AI this notebook is divided into 3 sections\n",
    "\n",
    "1. Load Data\n",
    "2. Analysis\n",
    "3. Data Preparation\n",
    "4. Training\n",
    "5. Validation\n",
    "6. Model Deployment\n",
    "7. Inference.\n",
    "\n",
    "For the second half of the notebook we build a simple random forest classifier. \n",
    "We will also further develop insights into which models is recommended, cost implications, drawbacks of each. \n"
   ]
  },
  {
   "cell_type": "code",
   "execution_count": 21,
   "metadata": {},
   "outputs": [],
   "source": [
    "# Env variables\n",
    "import os\n",
    "import openai\n",
    "from dotenv import load_dotenv\n",
    "import openai\n",
    "from openai import cli\n",
    "import time\n",
    "import numpy as np\n",
    "from sklearn.datasets import load_files\n",
    "import os\n",
    "import pandas as pd\n",
    "from sklearn.model_selection import train_test_split\n",
    "import matplotlib.pyplot as plt\n",
    "from sklearn.metrics import accuracy_score\n",
    "\n",
    "# Azure\n",
    "load_dotenv()\n",
    "\n",
    "OPENAI_API_KEY = os.getenv(\"OPENAI_API_KEY\")\n",
    "OPENAI_DEPLOYMENT_ENDPOINT = os.getenv(\"OPENAI_DEPLOYMENT_ENDPOINT\")\n",
    "OPENAI_DEPLOYMENT_NAME = os.getenv(\"OPENAI_DEPLOYMENT_NAME\")\n",
    "OPENAI_MODEL_NAME = os.getenv(\"OPENAI_MODEL_NAME\")\n",
    "OPENAI_EMBEDDING_DEPLOYMENT_NAME = os.getenv(\"OPENAI_EMBEDDING_DEPLOYMENT_NAME\")\n",
    "OPENAI_EMBEDDING_MODEL_NAME = os.getenv(\"OPENAI_EMBEDDING_MODEL_NAME\")\n",
    "OPENAI_DEPLOYMENT_VERSION = os.getenv(\"OPENAI_DEPLOYMENT_VERSION\")\n",
    "OPENAI_EMBEDDING_VERSION = os.getenv(\"OPENAI_EMBEDDING_VERSION\")\n",
    "AZURE_SUBSCRIPTION_ID = os.getenv(\"AZURE_SUBSCRIPTION_ID\")\n",
    "\n",
    "#init Azure OpenAI\n",
    "openai.api_type = \"azure\"\n",
    "openai.api_version = OPENAI_DEPLOYMENT_VERSION\n",
    "openai.api_base = OPENAI_DEPLOYMENT_ENDPOINT\n",
    "openai.api_key = OPENAI_API_KEY"
   ]
  },
  {
   "attachments": {},
   "cell_type": "markdown",
   "metadata": {},
   "source": [
    "## 1. Load Data\n",
    "\n",
    "In this sample we will classify text that belong to 10 different categories like - technologie, sports, social etc.<br/>\n",
    "The data can be downloaded from here https://drive.google.com/file/d/17vbWKQXFQu9qkOCps2z6Oi18ntT4FIuH/view?usp=sharing"
   ]
  },
  {
   "cell_type": "code",
   "execution_count": 22,
   "metadata": {},
   "outputs": [],
   "source": [
    "# download data and name the folder as data.\n",
    "if os.getcwd().endswith('data') == False:\n",
    "    os.chdir(\"./data\")"
   ]
  },
  {
   "cell_type": "code",
   "execution_count": 23,
   "metadata": {},
   "outputs": [],
   "source": [
    "# load data from files\n",
    "data = load_files(\".\", encoding=\"utf-8\", decode_error=\"replace\")"
   ]
  },
  {
   "cell_type": "code",
   "execution_count": 24,
   "metadata": {},
   "outputs": [
    {
     "data": {
      "text/html": [
       "<div>\n",
       "<style scoped>\n",
       "    .dataframe tbody tr th:only-of-type {\n",
       "        vertical-align: middle;\n",
       "    }\n",
       "\n",
       "    .dataframe tbody tr th {\n",
       "        vertical-align: top;\n",
       "    }\n",
       "\n",
       "    .dataframe thead th {\n",
       "        text-align: right;\n",
       "    }\n",
       "</style>\n",
       "<table border=\"1\" class=\"dataframe\">\n",
       "  <thead>\n",
       "    <tr style=\"text-align: right;\">\n",
       "      <th></th>\n",
       "      <th>prompt</th>\n",
       "      <th>completion</th>\n",
       "    </tr>\n",
       "  </thead>\n",
       "  <tbody>\n",
       "    <tr>\n",
       "      <th>0</th>\n",
       "      <td>The future in your pocket\\n\\nIf you are a geek...</td>\n",
       "      <td>technologie</td>\n",
       "    </tr>\n",
       "    <tr>\n",
       "      <th>1</th>\n",
       "      <td>Brizzel to run AAA's in Sheffield\\n\\nBallymena...</td>\n",
       "      <td>sport</td>\n",
       "    </tr>\n",
       "    <tr>\n",
       "      <th>2</th>\n",
       "      <td>Fish and shellfish are both great sources of l...</td>\n",
       "      <td>food</td>\n",
       "    </tr>\n",
       "    <tr>\n",
       "      <th>3</th>\n",
       "      <td>JB&gt;  romdas@uclink.berkeley.edu (Ella I Baff) ...</td>\n",
       "      <td>medical</td>\n",
       "    </tr>\n",
       "    <tr>\n",
       "      <th>4</th>\n",
       "      <td>Tory leader unveils spending plan\\n\\nTory lead...</td>\n",
       "      <td>politics</td>\n",
       "    </tr>\n",
       "  </tbody>\n",
       "</table>\n",
       "</div>"
      ],
      "text/plain": [
       "                                              prompt   completion\n",
       "0  The future in your pocket\\n\\nIf you are a geek...  technologie\n",
       "1  Brizzel to run AAA's in Sheffield\\n\\nBallymena...        sport\n",
       "2  Fish and shellfish are both great sources of l...         food\n",
       "3  JB>  romdas@uclink.berkeley.edu (Ella I Baff) ...      medical\n",
       "4  Tory leader unveils spending plan\\n\\nTory lead...     politics"
      ]
     },
     "execution_count": 24,
     "metadata": {},
     "output_type": "execute_result"
    }
   ],
   "source": [
    "df = pd.DataFrame(list(zip(data['data'], data['target'])), columns=['text', 'label'])\n",
    "# rename columns to meet the OpenAI requirements\n",
    "df.rename(columns={'text':'prompt', 'label':'completion'}, inplace=True)\n",
    "# convert label to string for padding\n",
    "df.completion = df.completion.apply(lambda x : data.target_names[x])\n",
    "df.head()"
   ]
  },
  {
   "cell_type": "code",
   "execution_count": 25,
   "metadata": {},
   "outputs": [
    {
     "name": "stdout",
     "output_type": "stream",
     "text": [
      "Number of classes: 10\n"
     ]
    }
   ],
   "source": [
    "num_of_classes = len(set(np.array(df.completion)))\n",
    "print(f\"Number of classes: {num_of_classes}\")"
   ]
  },
  {
   "cell_type": "code",
   "execution_count": 26,
   "metadata": {},
   "outputs": [
    {
     "data": {
      "text/html": [
       "<div>\n",
       "<style scoped>\n",
       "    .dataframe tbody tr th:only-of-type {\n",
       "        vertical-align: middle;\n",
       "    }\n",
       "\n",
       "    .dataframe tbody tr th {\n",
       "        vertical-align: top;\n",
       "    }\n",
       "\n",
       "    .dataframe thead th {\n",
       "        text-align: right;\n",
       "    }\n",
       "</style>\n",
       "<table border=\"1\" class=\"dataframe\">\n",
       "  <thead>\n",
       "    <tr style=\"text-align: right;\">\n",
       "      <th></th>\n",
       "      <th>prompt</th>\n",
       "    </tr>\n",
       "    <tr>\n",
       "      <th>completion</th>\n",
       "      <th></th>\n",
       "    </tr>\n",
       "  </thead>\n",
       "  <tbody>\n",
       "    <tr>\n",
       "      <th>business</th>\n",
       "      <td>100</td>\n",
       "    </tr>\n",
       "    <tr>\n",
       "      <th>entertainment</th>\n",
       "      <td>100</td>\n",
       "    </tr>\n",
       "    <tr>\n",
       "      <th>food</th>\n",
       "      <td>100</td>\n",
       "    </tr>\n",
       "    <tr>\n",
       "      <th>graphics</th>\n",
       "      <td>100</td>\n",
       "    </tr>\n",
       "    <tr>\n",
       "      <th>historical</th>\n",
       "      <td>100</td>\n",
       "    </tr>\n",
       "    <tr>\n",
       "      <th>medical</th>\n",
       "      <td>100</td>\n",
       "    </tr>\n",
       "    <tr>\n",
       "      <th>politics</th>\n",
       "      <td>100</td>\n",
       "    </tr>\n",
       "    <tr>\n",
       "      <th>space</th>\n",
       "      <td>100</td>\n",
       "    </tr>\n",
       "    <tr>\n",
       "      <th>sport</th>\n",
       "      <td>100</td>\n",
       "    </tr>\n",
       "    <tr>\n",
       "      <th>technologie</th>\n",
       "      <td>100</td>\n",
       "    </tr>\n",
       "  </tbody>\n",
       "</table>\n",
       "</div>"
      ],
      "text/plain": [
       "               prompt\n",
       "completion           \n",
       "business          100\n",
       "entertainment     100\n",
       "food              100\n",
       "graphics          100\n",
       "historical        100\n",
       "medical           100\n",
       "politics          100\n",
       "space             100\n",
       "sport             100\n",
       "technologie       100"
      ]
     },
     "execution_count": 26,
     "metadata": {},
     "output_type": "execute_result"
    }
   ],
   "source": [
    "# files per class\n",
    "df.groupby('completion').count()"
   ]
  },
  {
   "attachments": {},
   "cell_type": "markdown",
   "metadata": {},
   "source": [
    "## 2. Analysis "
   ]
  },
  {
   "cell_type": "code",
   "execution_count": 27,
   "metadata": {},
   "outputs": [
    {
     "data": {
      "text/html": [
       "<div>\n",
       "<style scoped>\n",
       "    .dataframe tbody tr th:only-of-type {\n",
       "        vertical-align: middle;\n",
       "    }\n",
       "\n",
       "    .dataframe tbody tr th {\n",
       "        vertical-align: top;\n",
       "    }\n",
       "\n",
       "    .dataframe thead th {\n",
       "        text-align: right;\n",
       "    }\n",
       "</style>\n",
       "<table border=\"1\" class=\"dataframe\">\n",
       "  <thead>\n",
       "    <tr style=\"text-align: right;\">\n",
       "      <th></th>\n",
       "      <th>completion</th>\n",
       "      <th>count</th>\n",
       "      <th>mean</th>\n",
       "      <th>std</th>\n",
       "      <th>min</th>\n",
       "      <th>50%</th>\n",
       "      <th>95%</th>\n",
       "      <th>max</th>\n",
       "    </tr>\n",
       "  </thead>\n",
       "  <tbody>\n",
       "    <tr>\n",
       "      <th>3</th>\n",
       "      <td>graphics</td>\n",
       "      <td>100.0</td>\n",
       "      <td>310.33</td>\n",
       "      <td>808.099942</td>\n",
       "      <td>21.0</td>\n",
       "      <td>192.0</td>\n",
       "      <td>546.70</td>\n",
       "      <td>8052.0</td>\n",
       "    </tr>\n",
       "    <tr>\n",
       "      <th>5</th>\n",
       "      <td>medical</td>\n",
       "      <td>100.0</td>\n",
       "      <td>435.62</td>\n",
       "      <td>940.705568</td>\n",
       "      <td>30.0</td>\n",
       "      <td>163.5</td>\n",
       "      <td>3079.15</td>\n",
       "      <td>4629.0</td>\n",
       "    </tr>\n",
       "    <tr>\n",
       "      <th>7</th>\n",
       "      <td>space</td>\n",
       "      <td>100.0</td>\n",
       "      <td>465.35</td>\n",
       "      <td>713.238572</td>\n",
       "      <td>19.0</td>\n",
       "      <td>190.5</td>\n",
       "      <td>1786.80</td>\n",
       "      <td>4033.0</td>\n",
       "    </tr>\n",
       "    <tr>\n",
       "      <th>4</th>\n",
       "      <td>historical</td>\n",
       "      <td>100.0</td>\n",
       "      <td>842.46</td>\n",
       "      <td>673.987148</td>\n",
       "      <td>82.0</td>\n",
       "      <td>704.0</td>\n",
       "      <td>2207.30</td>\n",
       "      <td>3082.0</td>\n",
       "    </tr>\n",
       "    <tr>\n",
       "      <th>6</th>\n",
       "      <td>politics</td>\n",
       "      <td>100.0</td>\n",
       "      <td>435.00</td>\n",
       "      <td>252.906498</td>\n",
       "      <td>142.0</td>\n",
       "      <td>418.5</td>\n",
       "      <td>614.35</td>\n",
       "      <td>2393.0</td>\n",
       "    </tr>\n",
       "    <tr>\n",
       "      <th>9</th>\n",
       "      <td>technologie</td>\n",
       "      <td>100.0</td>\n",
       "      <td>454.38</td>\n",
       "      <td>221.951937</td>\n",
       "      <td>67.0</td>\n",
       "      <td>433.0</td>\n",
       "      <td>886.25</td>\n",
       "      <td>1234.0</td>\n",
       "    </tr>\n",
       "    <tr>\n",
       "      <th>8</th>\n",
       "      <td>sport</td>\n",
       "      <td>100.0</td>\n",
       "      <td>316.62</td>\n",
       "      <td>194.286978</td>\n",
       "      <td>122.0</td>\n",
       "      <td>255.0</td>\n",
       "      <td>772.05</td>\n",
       "      <td>944.0</td>\n",
       "    </tr>\n",
       "    <tr>\n",
       "      <th>0</th>\n",
       "      <td>business</td>\n",
       "      <td>100.0</td>\n",
       "      <td>330.26</td>\n",
       "      <td>137.125956</td>\n",
       "      <td>147.0</td>\n",
       "      <td>298.0</td>\n",
       "      <td>598.05</td>\n",
       "      <td>891.0</td>\n",
       "    </tr>\n",
       "    <tr>\n",
       "      <th>1</th>\n",
       "      <td>entertainment</td>\n",
       "      <td>100.0</td>\n",
       "      <td>287.02</td>\n",
       "      <td>122.221440</td>\n",
       "      <td>152.0</td>\n",
       "      <td>244.5</td>\n",
       "      <td>549.35</td>\n",
       "      <td>806.0</td>\n",
       "    </tr>\n",
       "    <tr>\n",
       "      <th>2</th>\n",
       "      <td>food</td>\n",
       "      <td>100.0</td>\n",
       "      <td>226.47</td>\n",
       "      <td>85.220860</td>\n",
       "      <td>94.0</td>\n",
       "      <td>217.5</td>\n",
       "      <td>369.15</td>\n",
       "      <td>594.0</td>\n",
       "    </tr>\n",
       "  </tbody>\n",
       "</table>\n",
       "</div>"
      ],
      "text/plain": [
       "      completion  count    mean         std    min    50%      95%     max\n",
       "3       graphics  100.0  310.33  808.099942   21.0  192.0   546.70  8052.0\n",
       "5        medical  100.0  435.62  940.705568   30.0  163.5  3079.15  4629.0\n",
       "7          space  100.0  465.35  713.238572   19.0  190.5  1786.80  4033.0\n",
       "4     historical  100.0  842.46  673.987148   82.0  704.0  2207.30  3082.0\n",
       "6       politics  100.0  435.00  252.906498  142.0  418.5   614.35  2393.0\n",
       "9    technologie  100.0  454.38  221.951937   67.0  433.0   886.25  1234.0\n",
       "8          sport  100.0  316.62  194.286978  122.0  255.0   772.05   944.0\n",
       "0       business  100.0  330.26  137.125956  147.0  298.0   598.05   891.0\n",
       "1  entertainment  100.0  287.02  122.221440  152.0  244.5   549.35   806.0\n",
       "2           food  100.0  226.47   85.220860   94.0  217.5   369.15   594.0"
      ]
     },
     "execution_count": 27,
     "metadata": {},
     "output_type": "execute_result"
    }
   ],
   "source": [
    "# plot distribution of classes\n",
    "df[\"num_of_words\"] = df.prompt.apply(lambda x : len(x.split()))\n",
    "df_graph = df['num_of_words'].groupby([df['completion']]).describe(percentiles=[0.95])\n",
    "df_graph = df_graph.reset_index()\n",
    "df_graph.sort_values(by=['max'], ascending=False).head(10)"
   ]
  },
  {
   "cell_type": "code",
   "execution_count": 29,
   "metadata": {},
   "outputs": [
    {
     "data": {
      "text/plain": [
       "<Axes: title={'center': 'Max number of words per class'}, xlabel='completion'>"
      ]
     },
     "execution_count": 29,
     "metadata": {},
     "output_type": "execute_result"
    },
    {
     "data": {
      "image/png": "[encoded data removed]",
      "text/plain": [
       "<Figure size 1000x500 with 2 Axes>"
      ]
     },
     "metadata": {},
     "output_type": "display_data"
    }
   ],
   "source": [
    "fig, axes = plt.subplots(nrows=1, ncols=2)\n",
    "df_graph.plot(x='completion', y='mean', kind='bar', figsize=(10, 5), title='Mean number of words per class', ax=axes[0])\n",
    "df_graph.plot(x='completion', y='max', kind='bar', figsize=(10, 5), title='Max number of words per class', ax=axes[1])\n"
   ]
  },
  {
   "attachments": {},
   "cell_type": "markdown",
   "metadata": {},
   "source": [
    "Key Insights\n",
    "- Graphics category has the largest text followed by medical, space.\n",
    "- Graphics is also skewed because min, max and 95% have huge variation\n",
    "- Food category has lowest words."
   ]
  },
  {
   "attachments": {},
   "cell_type": "markdown",
   "metadata": {},
   "source": [
    "## 3. Data Preparation"
   ]
  },
  {
   "cell_type": "code",
   "execution_count": 30,
   "metadata": {},
   "outputs": [
    {
     "data": {
      "text/plain": [
       "('h.\\n\\n\\n###\\n\\n', ' technologie')"
      ]
     },
     "execution_count": 30,
     "metadata": {},
     "output_type": "execute_result"
    }
   ],
   "source": [
    "df = df.drop(columns=['num_of_words'])\n",
    "# Each prompt should end with a fixed separator to inform the model when the prompt ends and the completion begins. \n",
    "# A simple separator which generally works well is \\n\\n###\\n\\n. The separator should not appear elsewhere in any prompt.\n",
    "df.prompt = df.prompt + \"\\n\\n###\\n\\n\"\n",
    "# Each completion should start with a whitespace due to tokenization, which tokenizes most words with a preceding whitespace.\n",
    "df.completion = df.completion.apply(lambda x: \" \" + x)\n",
    "df.prompt[0][-10:], df.completion[0]"
   ]
  },
  {
   "cell_type": "code",
   "execution_count": 62,
   "metadata": {},
   "outputs": [
    {
     "name": "stdout",
     "output_type": "stream",
     "text": [
      "(800, 2)\n",
      "(200, 2)\n"
     ]
    },
    {
     "data": {
      "text/html": [
       "<div>\n",
       "<style scoped>\n",
       "    .dataframe tbody tr th:only-of-type {\n",
       "        vertical-align: middle;\n",
       "    }\n",
       "\n",
       "    .dataframe tbody tr th {\n",
       "        vertical-align: top;\n",
       "    }\n",
       "\n",
       "    .dataframe thead th {\n",
       "        text-align: right;\n",
       "    }\n",
       "</style>\n",
       "<table border=\"1\" class=\"dataframe\">\n",
       "  <thead>\n",
       "    <tr style=\"text-align: right;\">\n",
       "      <th></th>\n",
       "      <th>prompt</th>\n",
       "      <th>completion</th>\n",
       "    </tr>\n",
       "  </thead>\n",
       "  <tbody>\n",
       "    <tr>\n",
       "      <th>29</th>\n",
       "      <td>Winn-Dixie files for bankruptcy\\n\\nUS supermar...</td>\n",
       "      <td>business</td>\n",
       "    </tr>\n",
       "    <tr>\n",
       "      <th>535</th>\n",
       "      <td>In article &lt;C5Kys1.C6r@panix.com&gt; dannyb@panix...</td>\n",
       "      <td>space</td>\n",
       "    </tr>\n",
       "    <tr>\n",
       "      <th>695</th>\n",
       "      <td>In article &lt;1993Apr14.174824.12295@westminster...</td>\n",
       "      <td>medical</td>\n",
       "    </tr>\n",
       "    <tr>\n",
       "      <th>557</th>\n",
       "      <td>------------- cut here -----------------\\nUniv...</td>\n",
       "      <td>medical</td>\n",
       "    </tr>\n",
       "    <tr>\n",
       "      <th>836</th>\n",
       "      <td>Apple iPod family expands market\\n\\nApple has ...</td>\n",
       "      <td>technologie</td>\n",
       "    </tr>\n",
       "  </tbody>\n",
       "</table>\n",
       "</div>"
      ],
      "text/plain": [
       "                                                prompt    completion\n",
       "29   Winn-Dixie files for bankruptcy\\n\\nUS supermar...      business\n",
       "535  In article <C5Kys1.C6r@panix.com> dannyb@panix...         space\n",
       "695  In article <1993Apr14.174824.12295@westminster...       medical\n",
       "557  ------------- cut here -----------------\\nUniv...       medical\n",
       "836  Apple iPod family expands market\\n\\nApple has ...   technologie"
      ]
     },
     "execution_count": 62,
     "metadata": {},
     "output_type": "execute_result"
    }
   ],
   "source": [
    "df_train, df_test = train_test_split(df, test_size=0.2, random_state=42)\n",
    "print(df_train.shape)\n",
    "print(df_test.shape)\n",
    "df_train.head()"
   ]
  },
  {
   "cell_type": "code",
   "execution_count": 32,
   "metadata": {},
   "outputs": [],
   "source": [
    "# creating training files in JSONL format\n",
    "training_file_name = \"news_ds_train.jsonl\"\n",
    "test_file_name = \"news_ds_test.jsonl\"\n",
    "df_train.to_json(training_file_name, orient='records', lines=True)\n",
    "df_test.to_json(test_file_name, orient='records', lines=True)"
   ]
  },
  {
   "cell_type": "code",
   "execution_count": 33,
   "metadata": {},
   "outputs": [
    {
     "name": "stderr",
     "output_type": "stream",
     "text": [
      "Upload progress: 100%|██████████| 2.14M/2.14M [00:00<00:00, 1.06Git/s]\n"
     ]
    },
    {
     "name": "stdout",
     "output_type": "stream",
     "text": [
      "Uploaded file from news_ds_train.jsonl: file-33b31dd91656493fab874f7c8dcacd57\n"
     ]
    },
    {
     "name": "stderr",
     "output_type": "stream",
     "text": [
      "Upload progress: 100%|██████████| 534k/534k [00:00<00:00, 267Mit/s]\n"
     ]
    },
    {
     "name": "stdout",
     "output_type": "stream",
     "text": [
      "Uploaded file from news_ds_test.jsonl: file-9bc98468d01e4ec9a8d28dca736d41e3\n"
     ]
    }
   ],
   "source": [
    "# uploading the training files to Azure OpenAI Studio\n",
    "training_id  = cli.FineTune._get_or_upload(training_file_name, False)\n",
    "validation_id = cli.FineTune._get_or_upload(test_file_name, False)"
   ]
  },
  {
   "attachments": {},
   "cell_type": "markdown",
   "metadata": {},
   "source": [
    "## 4. Training"
   ]
  },
  {
   "cell_type": "code",
   "execution_count": 40,
   "metadata": {},
   "outputs": [
    {
     "name": "stdout",
     "output_type": "stream",
     "text": [
      "Fine-tuning model with job ID: ft-d0e1b4d313bc42cc9a07097cd7247f44.\n"
     ]
    }
   ],
   "source": [
    "# Note: This step may sometimes fail due to latency in file upload task above,\n",
    "\n",
    "# create a customized model with training and validation data. \n",
    "# The model will be trained for 1 epoch and will compute classification metrics.\n",
    "create_args = {\n",
    "    \"training_file\": training_id,\n",
    "    \"validation_file\": validation_id,\n",
    "    \"model\": \"ada\",\n",
    "    \"n_epochs\": 2,\n",
    "    \"compute_classification_metrics\": True,\n",
    "    \"classification_n_classes\": num_of_classes\n",
    "}\n",
    "\n",
    "# Create the fine-tune job and retrieve the job ID\n",
    "# and status from the response.\n",
    "resp = openai.FineTune.create(**create_args)\n",
    "job_id = resp[\"id\"]\n",
    "status = resp[\"status\"]\n",
    "\n",
    "# You can use the job ID to monitor the status of the fine-tune job.\n",
    "# The fine-tune job may take some time to start and complete.\n",
    "print(f'Fine-tuning model with job ID: {job_id}.')"
   ]
  },
  {
   "cell_type": "code",
   "execution_count": 78,
   "metadata": {},
   "outputs": [
    {
     "name": "stdout",
     "output_type": "stream",
     "text": [
      "Fine-tune job ft-d0e1b4d313bc42cc9a07097cd7247f44 finished with status: succeeded\n"
     ]
    }
   ],
   "source": [
    "status = openai.FineTune.retrieve(id=job_id)[\"status\"]\n",
    "\n",
    "# If the job isn't yet done, poll it every 2 seconds.\n",
    "if status not in [\"succeeded\", \"failed\"]:\n",
    "    print(f'Job not in terminal status: {status}. Waiting.')\n",
    "    while status not in [\"succeeded\", \"failed\"]:\n",
    "        time.sleep(10)\n",
    "        status = openai.FineTune.retrieve(id=job_id)[\"status\"]\n",
    "        print(f'Status: {status}')\n",
    "else:\n",
    "    print(f'Fine-tune job {job_id} finished with status: {status}')\n"
   ]
  },
  {
   "cell_type": "code",
   "execution_count": 79,
   "metadata": {},
   "outputs": [
    {
     "name": "stdout",
     "output_type": "stream",
     "text": [
      "Downloading result file: results.csv\n",
      "Result file results.csv downloaded.\n"
     ]
    }
   ],
   "source": [
    "import io\n",
    "# verify the trainining results\n",
    "# Retrieve the fine-tune job\n",
    "result = openai.FineTune.retrieve(id=job_id)\n",
    "if result[\"status\"] == 'succeeded':\n",
    "    result_file_id = result.result_files[0].id\n",
    "    result_file_name = result.result_files[0].filename\n",
    "    result_validation_file_id = result.validation_files[0].id\n",
    "print(f'Downloading result file: {result_file_name}')\n",
    "with open(result_file_name, \"wb\") as file:\n",
    "    result = openai.File.download(id=result_file_id)\n",
    "    file.write(result)\n",
    "print(f'Result file {result_file_name} downloaded.')"
   ]
  },
  {
   "cell_type": "code",
   "execution_count": 80,
   "metadata": {},
   "outputs": [
    {
     "data": {
      "text/plain": [
       "<FineTune fine-tune id=ft-d0e1b4d313bc42cc9a07097cd7247f44 at 0x22c6aa05cd0> JSON: {\n",
       "  \"hyperparams\": {\n",
       "    \"compute_classification_metrics\": true,\n",
       "    \"classification_n_classes\": 10,\n",
       "    \"batch_size\": 1,\n",
       "    \"learning_rate_multiplier\": 0.2,\n",
       "    \"n_epochs\": 2,\n",
       "    \"prompt_loss_weight\": 0.1\n",
       "  },\n",
       "  \"model\": \"ada\",\n",
       "  \"fine_tuned_model\": \"ada.ft-d0e1b4d313bc42cc9a07097cd7247f44\",\n",
       "  \"training_files\": [\n",
       "    {\n",
       "      \"statistics\": {\n",
       "        \"tokens\": 331309,\n",
       "        \"examples\": 800\n",
       "      },\n",
       "      \"purpose\": \"fine-tune\",\n",
       "      \"filename\": \"da+npKD3hqZG+B0pEUMzUHHXqiwZXaITeKWvzWR+RRnrGQeXXf1lZF+eEUM8ZOU9\",\n",
       "      \"id\": \"file-33b31dd91656493fab874f7c8dcacd57\",\n",
       "      \"status\": \"succeeded\",\n",
       "      \"created_at\": 1688269756,\n",
       "      \"updated_at\": 1688269774,\n",
       "      \"object\": \"file\"\n",
       "    }\n",
       "  ],\n",
       "  \"validation_files\": [\n",
       "    {\n",
       "      \"statistics\": {\n",
       "        \"tokens\": 81028,\n",
       "        \"examples\": 200\n",
       "      },\n",
       "      \"purpose\": \"fine-tune\",\n",
       "      \"filename\": \"+AgIhinWN+q+IQq/03LED8P6kpAY3ogJltxSLHK1J++F9CbpIswkIpZ6eqvSfq8Y\",\n",
       "      \"id\": \"file-9bc98468d01e4ec9a8d28dca736d41e3\",\n",
       "      \"status\": \"succeeded\",\n",
       "      \"created_at\": 1688269757,\n",
       "      \"updated_at\": 1688269774,\n",
       "      \"object\": \"file\"\n",
       "    }\n",
       "  ],\n",
       "  \"result_files\": [\n",
       "    {\n",
       "      \"statistics\": {\n",
       "        \"tokens\": 0,\n",
       "        \"examples\": 0\n",
       "      },\n",
       "      \"bytes\": 69709,\n",
       "      \"purpose\": \"fine-tune-results\",\n",
       "      \"filename\": \"results.csv\",\n",
       "      \"id\": \"file-87e3d8fe79c0465e8d6ba1171551310a\",\n",
       "      \"status\": \"succeeded\",\n",
       "      \"created_at\": 1688273724,\n",
       "      \"updated_at\": 1688275076,\n",
       "      \"object\": \"file\"\n",
       "    }\n",
       "  ],\n",
       "  \"events\": [\n",
       "    {\n",
       "      \"created_at\": 1688271253,\n",
       "      \"level\": \"info\",\n",
       "      \"message\": \"Job enqueued. Waiting for jobs ahead to complete.\",\n",
       "      \"object\": \"fine-tune-event\"\n",
       "    },\n",
       "    {\n",
       "      \"created_at\": 1688271298,\n",
       "      \"level\": \"info\",\n",
       "      \"message\": \"Jobs ahead in queue: 0\",\n",
       "      \"object\": \"fine-tune-event\"\n",
       "    },\n",
       "    {\n",
       "      \"created_at\": 1688273137,\n",
       "      \"level\": \"info\",\n",
       "      \"message\": \"Job started.\",\n",
       "      \"object\": \"fine-tune-event\"\n",
       "    },\n",
       "    {\n",
       "      \"created_at\": 1688273183,\n",
       "      \"level\": \"info\",\n",
       "      \"message\": \"Preprocessing started.\",\n",
       "      \"object\": \"fine-tune-event\"\n",
       "    },\n",
       "    {\n",
       "      \"created_at\": 1688273596,\n",
       "      \"level\": \"info\",\n",
       "      \"message\": \"Training started.\",\n",
       "      \"object\": \"fine-tune-event\"\n",
       "    },\n",
       "    {\n",
       "      \"created_at\": 1688273724,\n",
       "      \"level\": \"info\",\n",
       "      \"message\": \"Created results file: file-87e3d8fe79c0465e8d6ba1171551310a\",\n",
       "      \"object\": \"fine-tune-event\"\n",
       "    },\n",
       "    {\n",
       "      \"created_at\": 1688274304,\n",
       "      \"level\": \"info\",\n",
       "      \"message\": \"Postprocessing started.\",\n",
       "      \"object\": \"fine-tune-event\"\n",
       "    },\n",
       "    {\n",
       "      \"created_at\": 1688275049,\n",
       "      \"level\": \"info\",\n",
       "      \"message\": \"Job succeeded.\",\n",
       "      \"object\": \"fine-tune-event\"\n",
       "    },\n",
       "    {\n",
       "      \"created_at\": 1688275076,\n",
       "      \"level\": \"info\",\n",
       "      \"message\": \"Completed results file: file-87e3d8fe79c0465e8d6ba1171551310a\",\n",
       "      \"object\": \"fine-tune-event\"\n",
       "    },\n",
       "    {\n",
       "      \"created_at\": 1688275076,\n",
       "      \"level\": \"info\",\n",
       "      \"message\": \"Training hours billed: 0.250\",\n",
       "      \"object\": \"fine-tune-event\"\n",
       "    }\n",
       "  ],\n",
       "  \"id\": \"ft-d0e1b4d313bc42cc9a07097cd7247f44\",\n",
       "  \"status\": \"succeeded\",\n",
       "  \"created_at\": 1688271253,\n",
       "  \"updated_at\": 1688275076,\n",
       "  \"object\": \"fine-tune\"\n",
       "}"
      ]
     },
     "execution_count": 80,
     "metadata": {},
     "output_type": "execute_result"
    }
   ],
   "source": [
    "# job_id = 'ft-748a702cd2f34e9bb4282c6915f9f9db'\n",
    "result = openai.FineTune.retrieve(id=job_id)\n",
    "result"
   ]
  },
  {
   "cell_type": "code",
   "execution_count": 81,
   "metadata": {},
   "outputs": [
    {
     "name": "stdout",
     "output_type": "stream",
     "text": [
      "Total tokens: 412337\n",
      "Total examples: 1000\n"
     ]
    }
   ],
   "source": [
    "result = openai.FineTune.retrieve(id=job_id)\n",
    "total_tokens = result.training_files[0].statistics.tokens + result.validation_files[0].statistics.tokens\n",
    "total_examples = result.training_files[0].statistics.examples + result.validation_files[0].statistics.examples\n",
    "print(f'Total tokens: {total_tokens}')\n",
    "print(f'Total examples: {total_examples}')"
   ]
  },
  {
   "attachments": {},
   "cell_type": "markdown",
   "metadata": {},
   "source": [
    "## 5. Analysis"
   ]
  },
  {
   "cell_type": "code",
   "execution_count": 82,
   "metadata": {},
   "outputs": [
    {
     "data": {
      "text/html": [
       "<div>\n",
       "<style scoped>\n",
       "    .dataframe tbody tr th:only-of-type {\n",
       "        vertical-align: middle;\n",
       "    }\n",
       "\n",
       "    .dataframe tbody tr th {\n",
       "        vertical-align: top;\n",
       "    }\n",
       "\n",
       "    .dataframe thead th {\n",
       "        text-align: right;\n",
       "    }\n",
       "</style>\n",
       "<table border=\"1\" class=\"dataframe\">\n",
       "  <thead>\n",
       "    <tr style=\"text-align: right;\">\n",
       "      <th></th>\n",
       "      <th>step</th>\n",
       "      <th>elapsed_tokens</th>\n",
       "      <th>elapsed_examples</th>\n",
       "      <th>training_loss</th>\n",
       "      <th>training_sequence_accuracy</th>\n",
       "      <th>training_token_accuracy</th>\n",
       "      <th>classification/accuracy</th>\n",
       "      <th>classification/weighted_f1_score</th>\n",
       "    </tr>\n",
       "  </thead>\n",
       "  <tbody>\n",
       "    <tr>\n",
       "      <th>1539</th>\n",
       "      <td>1540</td>\n",
       "      <td>729252</td>\n",
       "      <td>1540</td>\n",
       "      <td>0.251243</td>\n",
       "      <td>1</td>\n",
       "      <td>1.0</td>\n",
       "      <td>-1.00</td>\n",
       "      <td>-1.000000</td>\n",
       "    </tr>\n",
       "    <tr>\n",
       "      <th>1540</th>\n",
       "      <td>1541</td>\n",
       "      <td>729437</td>\n",
       "      <td>1541</td>\n",
       "      <td>0.225168</td>\n",
       "      <td>1</td>\n",
       "      <td>1.0</td>\n",
       "      <td>-1.00</td>\n",
       "      <td>-1.000000</td>\n",
       "    </tr>\n",
       "    <tr>\n",
       "      <th>1541</th>\n",
       "      <td>1542</td>\n",
       "      <td>729734</td>\n",
       "      <td>1542</td>\n",
       "      <td>0.235666</td>\n",
       "      <td>1</td>\n",
       "      <td>1.0</td>\n",
       "      <td>0.99</td>\n",
       "      <td>0.990065</td>\n",
       "    </tr>\n",
       "  </tbody>\n",
       "</table>\n",
       "</div>"
      ],
      "text/plain": [
       "      step  elapsed_tokens  elapsed_examples  training_loss   \n",
       "1539  1540          729252              1540       0.251243  \\\n",
       "1540  1541          729437              1541       0.225168   \n",
       "1541  1542          729734              1542       0.235666   \n",
       "\n",
       "      training_sequence_accuracy  training_token_accuracy   \n",
       "1539                           1                      1.0  \\\n",
       "1540                           1                      1.0   \n",
       "1541                           1                      1.0   \n",
       "\n",
       "      classification/accuracy  classification/weighted_f1_score  \n",
       "1539                    -1.00                         -1.000000  \n",
       "1540                    -1.00                         -1.000000  \n",
       "1541                     0.99                          0.990065  "
      ]
     },
     "execution_count": 82,
     "metadata": {},
     "output_type": "execute_result"
    }
   ],
   "source": [
    "df_results = pd.read_csv('./results.csv')\n",
    "df_results.tail(3)"
   ]
  },
  {
   "cell_type": "code",
   "execution_count": 83,
   "metadata": {},
   "outputs": [
    {
     "data": {
      "text/plain": [
       "Text(0.5, 1.0, 'Classification weighted F1 score')"
      ]
     },
     "execution_count": 83,
     "metadata": {},
     "output_type": "execute_result"
    },
    {
     "data": {
      "image/png": "[encoded data removed]",
      "text/plain": [
       "<Figure size 1500x500 with 4 Axes>"
      ]
     },
     "metadata": {},
     "output_type": "display_data"
    }
   ],
   "source": [
    "# Plotting training Loss\n",
    "training_steps = np.array(df_results.step)\n",
    "training_loss = np.array(df_results.training_loss)\n",
    "training_token_accuracy = np.array(df_results.training_token_accuracy*100)\n",
    "training_classification_accuracy = np.array(df_results[\"classification/accuracy\"]*100)\n",
    "training_classification_weighted_f1_score = np.array(df_results[\"classification/weighted_f1_score\"]*100)\n",
    "\n",
    "\n",
    "fig, axes = plt.subplots(2, 2, figsize=(15, 5))\n",
    "axes[0,0].plot(training_steps, training_token_accuracy)\n",
    "axes[0,0].set_title('Training token accuracy')\n",
    "axes[0,1].plot(training_steps, training_classification_accuracy)\n",
    "axes[0,1].set_title('Classification accuracy')\n",
    "axes[1,0].plot(training_steps, training_loss)\n",
    "axes[1,0].set_title('Training Loss')\n",
    "axes[1,1].plot(training_steps, training_classification_weighted_f1_score)\n",
    "axes[1,1].set_title('Classification weighted F1 score')\n"
   ]
  },
  {
   "attachments": {},
   "cell_type": "markdown",
   "metadata": {},
   "source": [
    "## 6. Model Deployment\n",
    "\n",
    "The customized model is available for deployment only once. In the below step we will deploy the model, which makes it available for inference using Open AI Completion libraries.\n",
    "Note: The code that is present online is deprecated. "
   ]
  },
  {
   "cell_type": "code",
   "execution_count": 87,
   "metadata": {},
   "outputs": [
    {
     "name": "stdout",
     "output_type": "stream",
     "text": [
      "{'additional_properties': {}, 'id': '/subscriptions/6a01260f-39d6-415f-a6c9-cf4fd479cbec/resourceGroups/sriks-ml-rg/providers/Microsoft.CognitiveServices/accounts/prompt-eng-models/deployments/cc-b4', 'name': 'cc-b4', 'type': 'Microsoft.CognitiveServices/accounts/deployments', 'system_data': <azure.mgmt.cognitiveservices.models._models_py3.SystemData object at 0x0000022C6FAB29D0>, 'etag': '\"e8e8ef76-c85d-4bf4-b46c-86ae6220fc17\"', 'properties': <azure.mgmt.cognitiveservices.models._models_py3.DeploymentProperties object at 0x0000022C7F3E6DD0>}\n"
     ]
    }
   ],
   "source": [
    "# Moving forward (Azure API versions 2023-05-15 and newer), the deployments APIs are deprecated in the openai library. \n",
    "# For all code managing deployments, it is recommended to use the azure-mgmt-cognitiveservices client library. \n",
    "\n",
    "from azure.mgmt.cognitiveservices import CognitiveServicesManagementClient\n",
    "from azure.identity import AzureCliCredential\n",
    "\n",
    "load_dotenv()\n",
    "\n",
    "sub_id = os.getenv(\"AZURE_SUBSCRIPTION_ID\")\n",
    "rg_name = os.getenv(\"RESOURCE_GROUP_NAME\")\n",
    "acc_name = os.getenv(\"ACCOUNT_NAME\")\n",
    "deployment_name = os.getenv(\"DEPLOYMENT_NAME\")\n",
    "model_name = \"\"\n",
    "model_version = os.getenv(\"MODEL_VERSION\")\n",
    "tenant_id = os.getenv(\"TENANT_ID\")\n",
    "\n",
    "\n",
    "result = openai.FineTune.retrieve(id=job_id)\n",
    "if result[\"status\"] == 'succeeded':\n",
    "    model_name = result[\"fine_tuned_model\"]\n",
    "\n",
    "# DefaultAzureCredential supports different authentication mechanisms and determines the appropriate credential type based of the environment it is executing in.\n",
    "client = CognitiveServicesManagementClient(credential=AzureCliCredential(tenant_id=tenant_id), subscription_id=sub_id)\n",
    "deployment = client.deployments.begin_create_or_update(\n",
    "    resource_group_name=rg_name,\n",
    "    account_name=acc_name,\n",
    "    deployment_name='cc-b4',\n",
    "    deployment={\n",
    "        \"properties\": {\n",
    "          \"model\": {\n",
    "            \"format\": \"OpenAI\",\n",
    "            \"name\": model_name,\n",
    "            \"version\": model_version\n",
    "          },\n",
    "          \"scaleSettings\": {\n",
    "            \"scaleType\": \"Standard\"\n",
    "          }\n",
    "        }\n",
    "    }\n",
    ")\n",
    "result = deployment.result()\n",
    "print(result)"
   ]
  },
  {
   "attachments": {},
   "cell_type": "markdown",
   "metadata": {},
   "source": [
    "## 7. Prediction Score\n",
    "\n",
    "In this section we will use the data from validation set to predict the target class.\n",
    "Similar to fine-tuning, we should update the prompts with additional tokens for the model to accurately predict.\n",
    "For classifictaion it is recommended to keep the temperature low. "
   ]
  },
  {
   "cell_type": "code",
   "execution_count": 88,
   "metadata": {},
   "outputs": [],
   "source": [
    "import tiktoken\n",
    "\n",
    "def get_completion(start_phrase):\n",
    "    text = \"\"\n",
    "    try:\n",
    "        start_phrase = start_phrase + \"\\n\\n###\\n\\n\"\n",
    "        response = openai.Completion.create(engine='custom-classification', prompt=start_phrase, max_tokens=1, temperature=0)\n",
    "        text = response['choices'][0]['text'].replace('\\n', '').replace(' .', '.').strip()\n",
    "    except:\n",
    "        return text\n",
    "        # do nothing\n",
    "    return text\n",
    "\n",
    "import tiktoken\n",
    "\n",
    "def num_tokens_from_string(string: str, encoding_name: str) -> int:\n",
    "    \"\"\"Returns the number of tokens in a text string.\"\"\"\n",
    "    encoding = tiktoken.get_encoding(encoding_name)\n",
    "    num_tokens = len(encoding.encode(string))\n",
    "    return num_tokens\n",
    "\n",
    "encoding = 'r50k_base'\n",
    "df_test['token_count'] = df_test['prompt'].apply(num_tokens_from_string, encoding_name=encoding)\n",
    "df_test[\"predicted_class\"] = df_test[\"prompt\"].apply(get_completion)\n",
    "df_test.head(3)"
   ]
  },
  {
   "cell_type": "code",
   "execution_count": 71,
   "metadata": {},
   "outputs": [
    {
     "name": "stdout",
     "output_type": "stream",
     "text": [
      "Total inference tokens: 133757\n",
      "Total cost of inference: $0.05\n"
     ]
    }
   ],
   "source": [
    "total_inference_tokens = df_test['token_count'].sum()\n",
    "print(f'Total inference tokens: {total_inference_tokens}')\n",
    "# 0.0004 is price per 1000 tokens for model - ada\n",
    "print(f'Total cost of inference: ${round((total_inference_tokens/1000) * 0.0004,2)}')"
   ]
  },
  {
   "cell_type": "code",
   "execution_count": 58,
   "metadata": {},
   "outputs": [
    {
     "name": "stdout",
     "output_type": "stream",
     "text": [
      "Number of rows with empty predicted_class: 200\n"
     ]
    },
    {
     "data": {
      "text/plain": [
       "Series([], Name: count, dtype: int64)"
      ]
     },
     "execution_count": 58,
     "metadata": {},
     "output_type": "execute_result"
    }
   ],
   "source": [
    "# the following code is used to remove the empty predicted_class rows\n",
    "# this can happen if the model is not able to generate a response for a given prompt due to the max_tokens limit or content filtering\n",
    "print(f'Number of rows with empty predicted_class: {len(df_test[df_test[\"predicted_class\"] == \"\"])}')\n",
    "# remove the empty rows\n",
    "df_test = df_test[df_test[\"predicted_class\"] != \"\"]\n",
    "df_test.predicted_class.value_counts()"
   ]
  },
  {
   "cell_type": "code",
   "execution_count": 95,
   "metadata": {},
   "outputs": [
    {
     "name": "stdout",
     "output_type": "stream",
     "text": [
      "Accuracy: 87.91\n"
     ]
    }
   ],
   "source": [
    "target_names = df_test.completion.unique()\n",
    "df_test = df_test[df_test[\"predicted_class\"] != \"\"]\n",
    "df_test.completion = df_test.completion.apply(lambda x: x.replace('\\n', '').replace(' .', '.').strip())\n",
    "accuracy = accuracy_score(df_test[\"completion\"], df_test[\"predicted_class\"])\n",
    "print(f'Accuracy: {round(accuracy*100,2)}')"
   ]
  },
  {
   "cell_type": "code",
   "execution_count": 96,
   "metadata": {},
   "outputs": [
    {
     "data": {
      "text/html": [
       "<div>\n",
       "<style scoped>\n",
       "    .dataframe tbody tr th:only-of-type {\n",
       "        vertical-align: middle;\n",
       "    }\n",
       "\n",
       "    .dataframe tbody tr th {\n",
       "        vertical-align: top;\n",
       "    }\n",
       "\n",
       "    .dataframe thead th {\n",
       "        text-align: right;\n",
       "    }\n",
       "</style>\n",
       "<table border=\"1\" class=\"dataframe\">\n",
       "  <thead>\n",
       "    <tr style=\"text-align: right;\">\n",
       "      <th></th>\n",
       "      <th>prompt</th>\n",
       "      <th>completion</th>\n",
       "      <th>predicted_class</th>\n",
       "    </tr>\n",
       "  </thead>\n",
       "  <tbody>\n",
       "    <tr>\n",
       "      <th>280</th>\n",
       "      <td>Wi-fi web reaches farmers in Peru\\n\\nA network...</td>\n",
       "      <td>technologie</td>\n",
       "      <td>techn</td>\n",
       "    </tr>\n",
       "    <tr>\n",
       "      <th>883</th>\n",
       "      <td>Yahoo celebrates a decade online\\n\\nYahoo, one...</td>\n",
       "      <td>technologie</td>\n",
       "      <td>techn</td>\n",
       "    </tr>\n",
       "    <tr>\n",
       "      <th>761</th>\n",
       "      <td>Creator of first Apple Mac dies\\n\\nJef Raskin,...</td>\n",
       "      <td>technologie</td>\n",
       "      <td>techn</td>\n",
       "    </tr>\n",
       "    <tr>\n",
       "      <th>549</th>\n",
       "      <td>Xbox power cable 'fire fear'\\n\\nMicrosoft has ...</td>\n",
       "      <td>technologie</td>\n",
       "      <td>techn</td>\n",
       "    </tr>\n",
       "    <tr>\n",
       "      <th>947</th>\n",
       "      <td>In article &lt;1993Apr20.125920.15005@ircam.fr&gt;, ...</td>\n",
       "      <td>medical</td>\n",
       "      <td>space</td>\n",
       "    </tr>\n",
       "    <tr>\n",
       "      <th>370</th>\n",
       "      <td>Security scares spark browser fix\\n\\nMicrosoft...</td>\n",
       "      <td>technologie</td>\n",
       "      <td>techn</td>\n",
       "    </tr>\n",
       "    <tr>\n",
       "      <th>296</th>\n",
       "      <td>Mobiles rack up 20 years of use\\n\\nMobile phon...</td>\n",
       "      <td>technologie</td>\n",
       "      <td>techn</td>\n",
       "    </tr>\n",
       "    <tr>\n",
       "      <th>209</th>\n",
       "      <td>Sony PSP tipped as a 'must-have'\\n\\nSony's Pla...</td>\n",
       "      <td>technologie</td>\n",
       "      <td>techn</td>\n",
       "    </tr>\n",
       "    <tr>\n",
       "      <th>866</th>\n",
       "      <td>Am I justified in being pissed off at this doc...</td>\n",
       "      <td>medical</td>\n",
       "      <td>space</td>\n",
       "    </tr>\n",
       "    <tr>\n",
       "      <th>764</th>\n",
       "      <td>Game firm holds 'cast' auditions\\n\\nVideo game...</td>\n",
       "      <td>technologie</td>\n",
       "      <td>techn</td>\n",
       "    </tr>\n",
       "  </tbody>\n",
       "</table>\n",
       "</div>"
      ],
      "text/plain": [
       "                                                prompt   completion   \n",
       "280  Wi-fi web reaches farmers in Peru\\n\\nA network...  technologie  \\\n",
       "883  Yahoo celebrates a decade online\\n\\nYahoo, one...  technologie   \n",
       "761  Creator of first Apple Mac dies\\n\\nJef Raskin,...  technologie   \n",
       "549  Xbox power cable 'fire fear'\\n\\nMicrosoft has ...  technologie   \n",
       "947  In article <1993Apr20.125920.15005@ircam.fr>, ...      medical   \n",
       "370  Security scares spark browser fix\\n\\nMicrosoft...  technologie   \n",
       "296  Mobiles rack up 20 years of use\\n\\nMobile phon...  technologie   \n",
       "209  Sony PSP tipped as a 'must-have'\\n\\nSony's Pla...  technologie   \n",
       "866  Am I justified in being pissed off at this doc...      medical   \n",
       "764  Game firm holds 'cast' auditions\\n\\nVideo game...  technologie   \n",
       "\n",
       "    predicted_class  \n",
       "280           techn  \n",
       "883           techn  \n",
       "761           techn  \n",
       "549           techn  \n",
       "947           space  \n",
       "370           techn  \n",
       "296           techn  \n",
       "209           techn  \n",
       "866           space  \n",
       "764           techn  "
      ]
     },
     "execution_count": 96,
     "metadata": {},
     "output_type": "execute_result"
    }
   ],
   "source": [
    "df_test[df_test[\"completion\"] != df_test[\"predicted_class\"]].head(10)"
   ]
  },
  {
   "attachments": {},
   "cell_type": "markdown",
   "metadata": {},
   "source": [
    "# Random Forest Classifier\n",
    "\n",
    "In this section we will build a random forest classifier for the same dataset."
   ]
  },
  {
   "cell_type": "code",
   "execution_count": 5,
   "metadata": {},
   "outputs": [],
   "source": [
    "# Import packages required for building Random Forest Classifier\n",
    "import numpy as np\n",
    "from sklearn.feature_extraction.text import CountVectorizer\n",
    "from sklearn.ensemble import RandomForestClassifier\n",
    "from sklearn import datasets\n",
    "import tensorflow as tf\n",
    "from tensorflow.keras import layers\n",
    "from tensorflow import keras\n",
    "import tensorflow_hub as hub\n",
    "from tensorflow.keras import layers\n",
    "from sklearn.feature_extraction.text import TfidfVectorizer"
   ]
  },
  {
   "attachments": {},
   "cell_type": "markdown",
   "metadata": {},
   "source": [
    "### 1. Data Preparation"
   ]
  },
  {
   "cell_type": "code",
   "execution_count": 6,
   "metadata": {},
   "outputs": [
    {
     "data": {
      "text/html": [
       "<div>\n",
       "<style scoped>\n",
       "    .dataframe tbody tr th:only-of-type {\n",
       "        vertical-align: middle;\n",
       "    }\n",
       "\n",
       "    .dataframe tbody tr th {\n",
       "        vertical-align: top;\n",
       "    }\n",
       "\n",
       "    .dataframe thead th {\n",
       "        text-align: right;\n",
       "    }\n",
       "</style>\n",
       "<table border=\"1\" class=\"dataframe\">\n",
       "  <thead>\n",
       "    <tr style=\"text-align: right;\">\n",
       "      <th></th>\n",
       "      <th>text</th>\n",
       "      <th>label</th>\n",
       "    </tr>\n",
       "  </thead>\n",
       "  <tbody>\n",
       "    <tr>\n",
       "      <th>29</th>\n",
       "      <td>[0.0, 0.0, 0.0, 0.0, 0.0, 0.0, 0.0, 0.0, 0.0, ...</td>\n",
       "      <td>9</td>\n",
       "    </tr>\n",
       "    <tr>\n",
       "      <th>535</th>\n",
       "      <td>[0.0, 0.0, 0.0, 0.0, 0.0, 0.0, 0.0, 0.0, 0.0, ...</td>\n",
       "      <td>2</td>\n",
       "    </tr>\n",
       "  </tbody>\n",
       "</table>\n",
       "</div>"
      ],
      "text/plain": [
       "                                                  text  label\n",
       "29   [0.0, 0.0, 0.0, 0.0, 0.0, 0.0, 0.0, 0.0, 0.0, ...      9\n",
       "535  [0.0, 0.0, 0.0, 0.0, 0.0, 0.0, 0.0, 0.0, 0.0, ...      2"
      ]
     },
     "execution_count": 6,
     "metadata": {},
     "output_type": "execute_result"
    }
   ],
   "source": [
    "df = pd.DataFrame(list(zip(data['data'], data['target'])), columns=['text', 'label'])\n",
    "df.label = df.label.apply(lambda x: df['label'][x])\n",
    "tfdf = TfidfVectorizer(max_features=10000)\n",
    "df.text = tfdf.fit_transform(df.text).toarray().tolist()\n",
    "df_train, df_test = train_test_split(df, test_size=0.2, random_state=42)\n",
    "df_train.head(2)"
   ]
  },
  {
   "attachments": {},
   "cell_type": "markdown",
   "metadata": {},
   "source": [
    "### 2. Model Development"
   ]
  },
  {
   "cell_type": "code",
   "execution_count": 7,
   "metadata": {},
   "outputs": [
    {
     "data": {
      "text/html": [
       "<style>#sk-container-id-1 {color: black;background-color: white;}#sk-container-id-1 pre{padding: 0;}#sk-container-id-1 div.sk-toggleable {background-color: white;}#sk-container-id-1 label.sk-toggleable__label {cursor: pointer;display: block;width: 100%;margin-bottom: 0;padding: 0.3em;box-sizing: border-box;text-align: center;}#sk-container-id-1 label.sk-toggleable__label-arrow:before {content: \"▸\";float: left;margin-right: 0.25em;color: #696969;}#sk-container-id-1 label.sk-toggleable__label-arrow:hover:before {color: black;}#sk-container-id-1 div.sk-estimator:hover label.sk-toggleable__label-arrow:before {color: black;}#sk-container-id-1 div.sk-toggleable__content {max-height: 0;max-width: 0;overflow: hidden;text-align: left;background-color: #f0f8ff;}#sk-container-id-1 div.sk-toggleable__content pre {margin: 0.2em;color: black;border-radius: 0.25em;background-color: #f0f8ff;}#sk-container-id-1 input.sk-toggleable__control:checked~div.sk-toggleable__content {max-height: 200px;max-width: 100%;overflow: auto;}#sk-container-id-1 input.sk-toggleable__control:checked~label.sk-toggleable__label-arrow:before {content: \"▾\";}#sk-container-id-1 div.sk-estimator input.sk-toggleable__control:checked~label.sk-toggleable__label {background-color: #d4ebff;}#sk-container-id-1 div.sk-label input.sk-toggleable__control:checked~label.sk-toggleable__label {background-color: #d4ebff;}#sk-container-id-1 input.sk-hidden--visually {border: 0;clip: rect(1px 1px 1px 1px);clip: rect(1px, 1px, 1px, 1px);height: 1px;margin: -1px;overflow: hidden;padding: 0;position: absolute;width: 1px;}#sk-container-id-1 div.sk-estimator {font-family: monospace;background-color: #f0f8ff;border: 1px dotted black;border-radius: 0.25em;box-sizing: border-box;margin-bottom: 0.5em;}#sk-container-id-1 div.sk-estimator:hover {background-color: #d4ebff;}#sk-container-id-1 div.sk-parallel-item::after {content: \"\";width: 100%;border-bottom: 1px solid gray;flex-grow: 1;}#sk-container-id-1 div.sk-label:hover label.sk-toggleable__label {background-color: #d4ebff;}#sk-container-id-1 div.sk-serial::before {content: \"\";position: absolute;border-left: 1px solid gray;box-sizing: border-box;top: 0;bottom: 0;left: 50%;z-index: 0;}#sk-container-id-1 div.sk-serial {display: flex;flex-direction: column;align-items: center;background-color: white;padding-right: 0.2em;padding-left: 0.2em;position: relative;}#sk-container-id-1 div.sk-item {position: relative;z-index: 1;}#sk-container-id-1 div.sk-parallel {display: flex;align-items: stretch;justify-content: center;background-color: white;position: relative;}#sk-container-id-1 div.sk-item::before, #sk-container-id-1 div.sk-parallel-item::before {content: \"\";position: absolute;border-left: 1px solid gray;box-sizing: border-box;top: 0;bottom: 0;left: 50%;z-index: -1;}#sk-container-id-1 div.sk-parallel-item {display: flex;flex-direction: column;z-index: 1;position: relative;background-color: white;}#sk-container-id-1 div.sk-parallel-item:first-child::after {align-self: flex-end;width: 50%;}#sk-container-id-1 div.sk-parallel-item:last-child::after {align-self: flex-start;width: 50%;}#sk-container-id-1 div.sk-parallel-item:only-child::after {width: 0;}#sk-container-id-1 div.sk-dashed-wrapped {border: 1px dashed gray;margin: 0 0.4em 0.5em 0.4em;box-sizing: border-box;padding-bottom: 0.4em;background-color: white;}#sk-container-id-1 div.sk-label label {font-family: monospace;font-weight: bold;display: inline-block;line-height: 1.2em;}#sk-container-id-1 div.sk-label-container {text-align: center;}#sk-container-id-1 div.sk-container {/* jupyter's `normalize.less` sets `[hidden] { display: none; }` but bootstrap.min.css set `[hidden] { display: none !important; }` so we also need the `!important` here to be able to override the default hidden behavior on the sphinx rendered scikit-learn.org. See: https://github.com/scikit-learn/scikit-learn/issues/21755 */display: inline-block !important;position: relative;}#sk-container-id-1 div.sk-text-repr-fallback {display: none;}</style><div id=\"sk-container-id-1\" class=\"sk-top-container\"><div class=\"sk-text-repr-fallback\"><pre>RandomForestClassifier(n_estimators=1000, random_state=0)</pre><b>In a Jupyter environment, please rerun this cell to show the HTML representation or trust the notebook. <br />On GitHub, the HTML representation is unable to render, please try loading this page with nbviewer.org.</b></div><div class=\"sk-container\" hidden><div class=\"sk-item\"><div class=\"sk-estimator sk-toggleable\"><input class=\"sk-toggleable__control sk-hidden--visually\" id=\"sk-estimator-id-1\" type=\"checkbox\" checked><label for=\"sk-estimator-id-1\" class=\"sk-toggleable__label sk-toggleable__label-arrow\">RandomForestClassifier</label><div class=\"sk-toggleable__content\"><pre>RandomForestClassifier(n_estimators=1000, random_state=0)</pre></div></div></div></div></div>"
      ],
      "text/plain": [
       "RandomForestClassifier(n_estimators=1000, random_state=0)"
      ]
     },
     "execution_count": 7,
     "metadata": {},
     "output_type": "execute_result"
    }
   ],
   "source": [
    "classifier = RandomForestClassifier(n_estimators=1000, random_state=0)\n",
    "classifier.fit(df_train.text.tolist(), df_train.label.tolist())"
   ]
  },
  {
   "attachments": {},
   "cell_type": "markdown",
   "metadata": {},
   "source": [
    "### 3. Prediction Score"
   ]
  },
  {
   "cell_type": "code",
   "execution_count": 8,
   "metadata": {},
   "outputs": [],
   "source": [
    "df_test[\"predictions\"] = classifier.predict(df_test.text.tolist()) "
   ]
  },
  {
   "cell_type": "code",
   "execution_count": 9,
   "metadata": {},
   "outputs": [
    {
     "name": "stdout",
     "output_type": "stream",
     "text": [
      "Accuracy: 91.5\n"
     ]
    }
   ],
   "source": [
    "accuracy = accuracy_score(df_test.label.tolist(), df_test.predictions.tolist())\n",
    "print(f'Accuracy: {round(accuracy*100,2)}')"
   ]
  },
  {
   "cell_type": "code",
   "execution_count": 13,
   "metadata": {},
   "outputs": [
    {
     "data": {
      "text/html": [
       "<div>\n",
       "<style scoped>\n",
       "    .dataframe tbody tr th:only-of-type {\n",
       "        vertical-align: middle;\n",
       "    }\n",
       "\n",
       "    .dataframe tbody tr th {\n",
       "        vertical-align: top;\n",
       "    }\n",
       "\n",
       "    .dataframe thead th {\n",
       "        text-align: right;\n",
       "    }\n",
       "</style>\n",
       "<table border=\"1\" class=\"dataframe\">\n",
       "  <thead>\n",
       "    <tr style=\"text-align: right;\">\n",
       "      <th></th>\n",
       "      <th>text</th>\n",
       "      <th>label</th>\n",
       "      <th>predictions</th>\n",
       "    </tr>\n",
       "  </thead>\n",
       "  <tbody>\n",
       "    <tr>\n",
       "      <th>811</th>\n",
       "      <td>[0.0, 0.0, 0.0, 0.0, 0.0, 0.0, 0.0, 0.0, 0.0, ...</td>\n",
       "      <td>3</td>\n",
       "      <td>0</td>\n",
       "    </tr>\n",
       "    <tr>\n",
       "      <th>947</th>\n",
       "      <td>[0.0, 0.0, 0.0, 0.0, 0.0, 0.0, 0.0, 0.0, 0.0, ...</td>\n",
       "      <td>9</td>\n",
       "      <td>2</td>\n",
       "    </tr>\n",
       "    <tr>\n",
       "      <th>277</th>\n",
       "      <td>[0.0, 0.0, 0.0, 0.0, 0.0, 0.0, 0.0, 0.0, 0.0, ...</td>\n",
       "      <td>9</td>\n",
       "      <td>2</td>\n",
       "    </tr>\n",
       "    <tr>\n",
       "      <th>570</th>\n",
       "      <td>[0.0, 0.0, 0.0, 0.0, 0.0, 0.0, 0.0, 0.0, 0.0, ...</td>\n",
       "      <td>5</td>\n",
       "      <td>2</td>\n",
       "    </tr>\n",
       "    <tr>\n",
       "      <th>209</th>\n",
       "      <td>[0.0, 0.03481925931891204, 0.0, 0.0, 0.0, 0.0,...</td>\n",
       "      <td>7</td>\n",
       "      <td>8</td>\n",
       "    </tr>\n",
       "  </tbody>\n",
       "</table>\n",
       "</div>"
      ],
      "text/plain": [
       "                                                  text  label  predictions\n",
       "811  [0.0, 0.0, 0.0, 0.0, 0.0, 0.0, 0.0, 0.0, 0.0, ...      3            0\n",
       "947  [0.0, 0.0, 0.0, 0.0, 0.0, 0.0, 0.0, 0.0, 0.0, ...      9            2\n",
       "277  [0.0, 0.0, 0.0, 0.0, 0.0, 0.0, 0.0, 0.0, 0.0, ...      9            2\n",
       "570  [0.0, 0.0, 0.0, 0.0, 0.0, 0.0, 0.0, 0.0, 0.0, ...      5            2\n",
       "209  [0.0, 0.03481925931891204, 0.0, 0.0, 0.0, 0.0,...      7            8"
      ]
     },
     "execution_count": 13,
     "metadata": {},
     "output_type": "execute_result"
    }
   ],
   "source": [
    "# Print the first 10 rows where the predicted class is different from the actual class\n",
    "df_test[df_test[\"label\"] != df_test[\"predictions\"]].head(5)"
   ]
  },
  {
   "cell_type": "code",
   "execution_count": 16,
   "metadata": {},
   "outputs": [
    {
     "name": "stdout",
     "output_type": "stream",
     "text": [
      "Compressed Random Forest: 7.23 MB\n"
     ]
    }
   ],
   "source": [
    "import joblib\n",
    "joblib.dump(classifier, \"./random_forest.joblib\", compress=3)\n",
    "print(f\"Compressed Random Forest: {np.round(os.path.getsize('random_forest.joblib') / 1024 / 1024, 2) } MB\")"
   ]
  },
  {
   "attachments": {},
   "cell_type": "markdown",
   "metadata": {},
   "source": [
    "## Summary\n",
    "\n",
    "- Open AI models can be fine tuned for data classification, however they are time consuming and costlier than simpler models like random forests.\n",
    "- Open AI models can halluciate and produce incorrect labels which do not exist.\n",
    "- Simple models perform better than Open AI models.\n",
    "- Simple models are small and easily portable"
   ]
  },
  {
   "cell_type": "code",
   "execution_count": 2,
   "metadata": {},
   "outputs": [
    {
     "name": "stdout",
     "output_type": "stream",
     "text": [
      "Note: you may need to restart the kernel to use updated packages.\n"
     ]
    },
    {
     "name": "stderr",
     "output_type": "stream",
     "text": [
      "ERROR: Could not find a version that satisfies the requirement tensorflow-decision-forests (from versions: none)\n",
      "ERROR: No matching distribution found for tensorflow-decision-forests\n"
     ]
    }
   ],
   "source": [
    "%pip install tensorflow-decision-forests"
   ]
  }
 ],
 "metadata": {
  "kernelspec": {
   "display_name": ".venv",
   "language": "python",
   "name": "python3"
  },
  "language_info": {
   "codemirror_mode": {
    "name": "ipython",
    "version": 3
   },
   "file_extension": ".py",
   "mimetype": "text/x-python",
   "name": "python",
   "nbconvert_exporter": "python",
   "pygments_lexer": "ipython3",
   "version": "3.11.4"
  },
  "orig_nbformat": 4
 },
 "nbformat": 4,
 "nbformat_minor": 2
}
