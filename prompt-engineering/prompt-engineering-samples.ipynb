{
 "cells": [
  {
   "cell_type": "code",
   "execution_count": 42,
   "metadata": {},
   "outputs": [
    {
     "name": "stdout",
     "output_type": "stream",
     "text": [
      "91232f1e17254babb9e50c83efce59cf\n"
     ]
    }
   ],
   "source": [
    "# Env variables\n",
    "import os\n",
    "import requests\n",
    "import json\n",
    "import openai\n",
    "from dotenv import load_dotenv\n",
    "load_dotenv()\n",
    "openai.api_key = os.getenv(\"AZURE_OPENAI_KEY\")\n",
    "openai.api_base = os.getenv(\"AZURE_OPENAI_ENDPOINT\") # your endpoint should look like the following https://YOUR_RESOURCE_NAME.openai.azure.com/\n",
    "openai.api_type = 'azure'\n",
    "openai.api_version = '2022-12-01' # this may change in the future"
   ]
  },
  {
   "attachments": {},
   "cell_type": "markdown",
   "metadata": {},
   "source": [
    "### Basic Sample - GPT models."
   ]
  },
  {
   "cell_type": "code",
   "execution_count": 15,
   "metadata": {},
   "outputs": [
    {
     "name": "stdout",
     "output_type": "stream",
     "text": [
      "Sending a test completion job\n",
      "Prompt:  Is key based authentication still considered secure?\n",
      "Yes, key-based authentication is considered a secure form of authentication as long as the private key is kept secure. Keys are generally considered more secure than passwords, as they are usually much longer, harder to guess, and harder to crack in a brute-force attack. Furthermore, two-factor authentication (2FA) by combining a key-based authentication mechanism with a separate authentication token enhances the security of the system.\n"
     ]
    }
   ],
   "source": [
    "print('Sending a test completion job')\n",
    "start_phrase = 'Is key based authentication still considered secure?'\n",
    "print('Prompt: ', start_phrase)\n",
    "deployment_name='text-davinci-003'\n",
    "response = openai.Completion.create(engine=deployment_name, prompt=start_phrase, max_tokens=200)\n",
    "text = response['choices'][0]['text'].replace('\\n', '').replace(' .', '.').strip()\n",
    "print(text)"
   ]
  },
  {
   "cell_type": "code",
   "execution_count": 16,
   "metadata": {},
   "outputs": [
    {
     "name": "stdout",
     "output_type": "stream",
     "text": [
      "Sending a test completion job with prompt engineering\n",
      "Prompt:  You are an AI security analyst, specialized in secure coding practices in software engineering that helps people write secure code. Answer in as few words as possible.---- Only answer questions related to secure coding practices. - If you are unaware of the answers say, “I do not know” and ask users to refer OWASP.---QUERY - Is key based authentication still considered secure ?---Only answer questions related to secure coding practices. Take a step-by-step approach in your response, cite sources, facts and give reasoning before sharing final answer---Respond in bulleted list with citations\n",
      "\n",
      "\n",
      "- Key based authentication, if implemented correctly and handled responsibly, can be considered secure.\n",
      "- Citation: [1] OWASP Authentication Cheat Sheet, https://cheatsheetseries.owasp.org/cheatsheets/Authentication_Cheat_Sheet.html\n",
      "- Citation: [2] NIST Special Publication 800-53, Security and Privacy Controls for Information Systems and Organizations, https://csrc.nist.gov/publications/detail/sp/800-53/rev-4/final\n"
     ]
    }
   ],
   "source": [
    "phrase_with_prompt = 'You are an AI security analyst, specialized in secure coding practices in software engineering that helps people write secure code. Answer in as few words as possible.' + '---' + '- Only answer questions related to secure coding practices. - If you are unaware of the answers say, “I do not know” and ask users to refer OWASP.' + '---' + 'QUERY - Is key based authentication still considered secure ?' + '---' + 'Only answer questions related to secure coding practices. Take a step-by-step approach in your response, cite sources, facts and give reasoning before sharing final answer' + '---' + 'Respond in bulleted list with citations' \n",
    "print('Sending a test completion job with prompt engineering')\n",
    "print('Prompt: ' , phrase_with_prompt)\n",
    "deployment_name='text-davinci-003'\n",
    "response = openai.Completion.create(engine=deployment_name, prompt=phrase_with_prompt, max_tokens=200)\n",
    "text = response['choices'][0]['text']\n",
    "print(text)"
   ]
  },
  {
   "attachments": {},
   "cell_type": "markdown",
   "metadata": {},
   "source": [
    "### Basic Sample - Chat GPT (GPT 3.5 Turbo) model"
   ]
  },
  {
   "cell_type": "code",
   "execution_count": 17,
   "metadata": {},
   "outputs": [
    {
     "name": "stdout",
     "output_type": "stream",
     "text": [
      "Yes, most Azure Cognitive Services support customer managed keys. Here are some examples: \n",
      "\n",
      "- Azure Text Analytics \n",
      "- Azure Speech Services \n",
      "- Azure Cognitive Services Translator \n",
      "- Azure Form Recognizer \n",
      "\n",
      "You can find more information on each service's documentation page or by consulting the Azure Key Vault documentation.\n"
     ]
    }
   ],
   "source": [
    "openai.api_version = \"2023-03-15-preview\"\n",
    "response = openai.ChatCompletion.create(\n",
    "    engine=\"gpt-35-turbo\", # engine = \"deployment_name\".\n",
    "    messages=[\n",
    "        {\"role\": \"system\", \"content\": \"You are a helpful assistant.\"},\n",
    "        {\"role\": \"user\", \"content\": \"Does Azure OpenAI support customer managed keys?\"},\n",
    "        {\"role\": \"assistant\", \"content\": \"Yes, customer managed keys are supported by Azure OpenAI.\"},\n",
    "        {\"role\": \"user\", \"content\": \"Do other Azure Cognitive Services support this too?\"}\n",
    "    ]\n",
    ")\n",
    "print(response['choices'][0]['message']['content'])"
   ]
  },
  {
   "attachments": {},
   "cell_type": "markdown",
   "metadata": {},
   "source": [
    "### Basic Sample - Embeddings model"
   ]
  },
  {
   "cell_type": "code",
   "execution_count": 18,
   "metadata": {},
   "outputs": [
    {
     "name": "stdout",
     "output_type": "stream",
     "text": [
      "0.8789562407146447\n",
      "0.7568887084215334\n"
     ]
    }
   ],
   "source": [
    "from openai.embeddings_utils import get_embedding, cosine_similarity\n",
    "text1 = \"We went to the pizza place and you ate no pizza at all\"\n",
    "text2 = \"I ate pizza with you yesterday at home\"\n",
    "text3 = \"There’s no battery left in my phone\"\n",
    "engine = \"text-embedding-ada-002\"\n",
    "response1 = get_embedding(text1, engine)\n",
    "response2 = get_embedding(text2, engine)\n",
    "response3 = get_embedding(text3, engine)    \n",
    "print(cosine_similarity(response1, response2))\n",
    "print(cosine_similarity(response1, response3))"
   ]
  },
  {
   "attachments": {},
   "cell_type": "markdown",
   "metadata": {},
   "source": [
    "### Basic Sample - Codex Model"
   ]
  },
  {
   "cell_type": "code",
   "execution_count": 38,
   "metadata": {},
   "outputs": [
    {
     "name": "stdout",
     "output_type": "stream",
     "text": [
      "\n",
      "def getFullName(firstName, lastName):\n",
      "    fullName = firstName + \" \" + lastName\n",
      "    return fullName\n",
      "\n",
      "\n"
     ]
    }
   ],
   "source": [
    "response = openai.Completion.create(\n",
    "  engine=\"code-davinci-002\",\n",
    "  prompt=\"# Create a function in python called 'getFullName' to add a first and last name and return the object\",\n",
    "  temperature=0.2,\n",
    "  max_tokens=2000,\n",
    "  top_p=1,\n",
    "  frequency_penalty=0,\n",
    "  presence_penalty=0,\n",
    "  best_of=1,\n",
    "  stop=[\"#\"])\n",
    "print(response['choices'][0]['text'])"
   ]
  }
 ],
 "metadata": {
  "kernelspec": {
   "display_name": ".venv",
   "language": "python",
   "name": "python3"
  },
  "language_info": {
   "codemirror_mode": {
    "name": "ipython",
    "version": 3
   },
   "file_extension": ".py",
   "mimetype": "text/x-python",
   "name": "python",
   "nbconvert_exporter": "python",
   "pygments_lexer": "ipython3",
   "version": "3.11.3"
  },
  "orig_nbformat": 4
 },
 "nbformat": 4,
 "nbformat_minor": 2
}
