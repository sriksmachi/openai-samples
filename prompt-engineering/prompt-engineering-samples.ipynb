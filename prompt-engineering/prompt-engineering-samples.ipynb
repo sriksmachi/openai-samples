{
 "cells": [
  {
   "cell_type": "code",
   "execution_count": 1,
   "metadata": {},
   "outputs": [],
   "source": [
    "# Env variables\n",
    "import os\n",
    "import requests\n",
    "import json\n",
    "import openai\n",
    "from dotenv import load_dotenv\n",
    "load_dotenv()\n",
    "openai.api_key = os.getenv(\"AZURE_OPENAI_KEY\")\n",
    "openai.api_base = os.getenv(\"AZURE_OPENAI_ENDPOINT\") # your endpoint should look like the following https://YOUR_RESOURCE_NAME.openai.azure.com/\n",
    "openai.api_type = 'azure'\n",
    "openai.api_version = '2022-12-01' # this may change in the future\n"
   ]
  },
  {
   "attachments": {},
   "cell_type": "markdown",
   "metadata": {},
   "source": [
    "### Basic Sample - GPT models."
   ]
  },
  {
   "cell_type": "code",
   "execution_count": 23,
   "metadata": {},
   "outputs": [
    {
     "name": "stdout",
     "output_type": "stream",
     "text": [
      "Sending a test completion job\n",
      "Prompt:  Is key based authentication still considered secure?\n",
      "Yes, key-based authentication is considered secure, as long as the key is kept private and secure. Keys can be used to encrypt data, so only the user with the key can access the data. With the use of strong authentication measures, such as two-factor authentication, it is possible to increase the security provided by key-based authentication.\n"
     ]
    }
   ],
   "source": [
    "print('Sending a test completion job')\n",
    "start_phrase = 'Is key based authentication still considered secure?'\n",
    "print('Prompt: ', start_phrase)\n",
    "deployment_name='text-davinci-003'\n",
    "response = openai.Completion.create(engine=deployment_name, prompt=start_phrase, max_tokens=200)\n",
    "text = response['choices'][0]['text'].replace('\\n', '').replace(' .', '.').strip()\n",
    "print(text)"
   ]
  },
  {
   "cell_type": "code",
   "execution_count": 26,
   "metadata": {},
   "outputs": [
    {
     "name": "stdout",
     "output_type": "stream",
     "text": [
      "Sending a test completion job with prompt engineering\n",
      "Prompt:  You are an AI security analyst, specialized in secure coding practices in software engineering that helps people write secure code. Answer in as few words as possible.---- Only answer questions related to secure coding practices. - If you are unaware of the answers say, “I do not know” and ask users to refer OWASP.---QUERY - Is key based authentication still considered secure ?---Only answer questions related to secure coding practices. Take a step-by-step approach in your response, cite sources, facts and give reasoning before sharing final answer---Respond in bulleted list with citations\n",
      " of sources\n",
      "\n",
      "- Key based authentication, when implemented with sufficient security measures, such as key encryption, secure communication, and secure storage, is still considered to be an effective security measure.\n",
      "- According to OWASP, key-based authentication \"is generally more secure than password-based authentication when implemented with sufficient security measures, such as key encryption, secure communication, and secure storage.\" (1) \n",
      "- It is recommended to regularly rotate authentication keys, to further enhance security. (2)\n",
      "- For more information on key based authentication and other secure coding best practices, refer to https://owasp.org/www-project-secure-coding-practices-quick-reference-guide/.\n",
      "\n",
      "References: \n",
      "(1) - https://owasp.org/www-project-top-ten/\n",
      "(2) - https://www.tenable.com/blog/key-based-authentication-8-effective-security-tips\n"
     ]
    }
   ],
   "source": [
    "phrase_with_prompt = 'You are an AI security analyst, specialized in secure coding practices in software engineering that helps people write secure code. Answer in as few words as possible.' + '---' + '- Only answer questions related to secure coding practices. - If you are unaware of the answers say, “I do not know” and ask users to refer OWASP.' + '---' + 'QUERY - Is key based authentication still considered secure ?' + '---' + 'Only answer questions related to secure coding practices. Take a step-by-step approach in your response, cite sources, facts and give reasoning before sharing final answer' + '---' + 'Respond in bulleted list with citations' \n",
    "print('Sending a test completion job with prompt engineering')\n",
    "print('Prompt: ' , phrase_with_prompt)\n",
    "deployment_name='text-davinci-003'\n",
    "response = openai.Completion.create(engine=deployment_name, prompt=phrase_with_prompt, max_tokens=200)\n",
    "text = response['choices'][0]['text']\n",
    "print(text)"
   ]
  },
  {
   "attachments": {},
   "cell_type": "markdown",
   "metadata": {},
   "source": [
    "### Basic Sample - Chat GPT (GPT 3.5 Turbo) model"
   ]
  },
  {
   "cell_type": "code",
   "execution_count": 3,
   "metadata": {},
   "outputs": [
    {
     "name": "stdout",
     "output_type": "stream",
     "text": [
      "Yes, most of the Azure Cognitive Services allow you to use customer managed keys for encryption-at-rest. Here's a list of the Azure Cognitive Services that support customer managed keys:\n",
      "\n",
      "1. Azure Cognitive Search\n",
      "2. Azure Form Recognizer\n",
      "3. Azure Text Analytics\n",
      "4. Azure Translator Text \n",
      "5. Azure Cognitive Services Speech\n",
      "6. Azure Content Moderator \n",
      "7. Azure Face and Azure Face API \n",
      "8. Azure Personalizer \n",
      "9. Azure Video Analyzer \n",
      "10. Azure Video Indexer\n",
      "\n",
      "Note: Some of the services may have additional requirements for using customer managed keys, such as certain pricing tiers or using a particular type of vault. Make sure to check the documentation for each service you are interested in to ensure customer managed keys are supported and what the requirements are.\n"
     ]
    }
   ],
   "source": [
    "openai.api_version = \"2023-03-15-preview\"\n",
    "response = openai.ChatCompletion.create(\n",
    "    engine=\"gpt-35-turbo\", # engine = \"deployment_name\".\n",
    "    messages=[\n",
    "        {\"role\": \"system\", \"content\": \"You are a helpful assistant.\"},\n",
    "        {\"role\": \"user\", \"content\": \"Does Azure OpenAI support customer managed keys?\"},\n",
    "        {\"role\": \"assistant\", \"content\": \"Yes, customer managed keys are supported by Azure OpenAI.\"},\n",
    "        {\"role\": \"user\", \"content\": \"Do other Azure Cognitive Services support this too?\"}\n",
    "    ]\n",
    ")\n",
    "print(response['choices'][0]['message']['content'])"
   ]
  },
  {
   "attachments": {},
   "cell_type": "markdown",
   "metadata": {},
   "source": [
    "### Basic Sample - Embeddings model"
   ]
  },
  {
   "cell_type": "code",
   "execution_count": 39,
   "metadata": {},
   "outputs": [
    {
     "name": "stdout",
     "output_type": "stream",
     "text": [
      "0.9248719525962084\n"
     ]
    }
   ],
   "source": [
    "from openai.embeddings_utils import get_embedding, cosine_similarity\n",
    "text1 = \"The quick brown fox jumps over the lazy dog\"\n",
    "text2 = \"The brown fox fights with the lazy dog\"\n",
    "text3 = \"this is a completely different sentence\"\n",
    "engine = \"text-embedding-ada-002\"\n",
    "response1 = get_embedding(text1, engine)\n",
    "response2 = get_embedding(text2, engine)\n",
    "print(cosine_similarity(response1, response2))"
   ]
  },
  {
   "attachments": {},
   "cell_type": "markdown",
   "metadata": {},
   "source": [
    "### Basic Sample - Codex Model"
   ]
  },
  {
   "cell_type": "code",
   "execution_count": 9,
   "metadata": {},
   "outputs": [
    {
     "name": "stdout",
     "output_type": "stream",
     "text": [
      "\n",
      "\n",
      "The script should be able to take the following arguments:\n",
      "\n",
      "-i input file\n",
      "-o output directory\n",
      "-s summary file\n",
      "\n",
      "The script should generate the following output:\n",
      "\n",
      "- A summary file with the following format:\n",
      "\n",
      "```\n",
      "<file_name> <file_size> <number_of_chunks>\n",
      "```\n",
      "\n",
      "- A directory with the following files:\n",
      "\n",
      "```\n",
      "<file_name>_<chunk_number>\n",
      "```\n",
      "\n",
      "Example:\n",
      "\n",
      "```\n",
      "python split.py -i input.txt -o output -s summary.txt\n",
      "```\n",
      "\n",
      "The above command should generate the following files:\n",
      "\n",
      "```\n",
      "output/input_1\n",
      "output/input_2\n",
      "output/input_3\n",
      "summary.txt\n",
      "```\n",
      "\n",
      "The summary file should contain the following:\n",
      "\n",
      "```\n",
      "input.txt 3000000 3\n",
      "```\n"
     ]
    }
   ],
   "source": [
    "response = openai.Completion.create(\n",
    "  engine=\"code-davinci-002\",\n",
    "  prompt=\"# Create a function called 'nameImporter' to add a first and last name to the database\",\n",
    "  temperature=0.2,\n",
    "  max_tokens=200,\n",
    "  top_p=1,\n",
    "  frequency_penalty=0,\n",
    "  presence_penalty=0,\n",
    "  best_of=1,\n",
    "  stop=[\"#\"])\n",
    "print(response['choices'][0]['text'])"
   ]
  }
 ],
 "metadata": {
  "kernelspec": {
   "display_name": ".venv",
   "language": "python",
   "name": "python3"
  },
  "language_info": {
   "codemirror_mode": {
    "name": "ipython",
    "version": 3
   },
   "file_extension": ".py",
   "mimetype": "text/x-python",
   "name": "python",
   "nbconvert_exporter": "python",
   "pygments_lexer": "ipython3",
   "version": "3.11.3"
  },
  "orig_nbformat": 4
 },
 "nbformat": 4,
 "nbformat_minor": 2
}
