{
 "cells": [
  {
   "cell_type": "code",
   "execution_count": 8,
   "metadata": {},
   "outputs": [
    {
     "name": "stdout",
     "output_type": "stream",
     "text": [
      "266373d58e4c4b2c81b7d6987e18c89d\n"
     ]
    }
   ],
   "source": [
    "# Env variables\n",
    "import os\n",
    "import requests\n",
    "import json\n",
    "import openai\n",
    "from dotenv import load_dotenv\n",
    "load_dotenv()\n",
    "openai.api_key = \"\"\n",
    "openai.api_base = os.getenv(\"AZURE_OPENAI_ENDPOINT\") # your endpoint should look like the following https://YOUR_RESOURCE_NAME.openai.azure.com/\n",
    "openai.api_type = 'azure'\n",
    "openai.api_version = '2022-12-01' # this may change in the future\n",
    "print(openai.api_key)\n"
   ]
  },
  {
   "attachments": {},
   "cell_type": "markdown",
   "metadata": {},
   "source": [
    "### Basic Sample - GPT models."
   ]
  },
  {
   "cell_type": "code",
   "execution_count": 9,
   "metadata": {},
   "outputs": [
    {
     "name": "stdout",
     "output_type": "stream",
     "text": [
      "Sending a test completion job\n",
      "Prompt:  Is key based authentication still considered secure?\n",
      "Yes, key-based authentication is still considered secure when used with a sufficiently long, unique key. Key-based authentication provides a secure, trusted way to connect with a remote system without having to use a password. This is because the encryption keys used are typically too difficult for a hacker to guess or brute force, making it a highly secure authentication option.\n"
     ]
    }
   ],
   "source": [
    "print('Sending a test completion job')\n",
    "start_phrase = 'Is key based authentication still considered secure?'\n",
    "print('Prompt: ', start_phrase)\n",
    "deployment_name='text-davinci-003'\n",
    "response = openai.Completion.create(engine=deployment_name, prompt=start_phrase, max_tokens=200)\n",
    "text = response['choices'][0]['text'].replace('\\n', '').replace(' .', '.').strip()\n",
    "print(text)"
   ]
  },
  {
   "cell_type": "code",
   "execution_count": 10,
   "metadata": {},
   "outputs": [
    {
     "name": "stdout",
     "output_type": "stream",
     "text": [
      "Sending a test completion job with prompt engineering\n",
      "Prompt:  You are an AI security analyst, specialized in secure coding practices in software engineering that helps people write secure code. Answer in as few words as possible.---- Only answer questions related to secure coding practices. - If you are unaware of the answers say, “I do not know” and ask users to refer OWASP.---QUERY - Is key based authentication still considered secure ?---Only answer questions related to secure coding practices. Take a step-by-step approach in your response, cite sources, facts and give reasoning before sharing final answer---Respond in bulleted list with citations\n",
      " for better understanding:\n",
      "\n",
      "• Key based authentication is considered secure if correctly implemented.\n",
      "• Security measures such as strong passwords, two-factor authentication, etc., should be used in combination with key based authentication for enhanced efficacy.\n",
      "• Citing example, Advanced Encryption Standard (AES) is an example of key based encryption used in many applications today like banking and healthcare system.\n",
      "• Refer to OWASP resource for detailed security protocols involved in key based authentication.\n"
     ]
    }
   ],
   "source": [
    "phrase_with_prompt = 'You are an AI security analyst, specialized in secure coding practices in software engineering that helps people write secure code. Answer in as few words as possible.' + '---' + '- Only answer questions related to secure coding practices. - If you are unaware of the answers say, “I do not know” and ask users to refer OWASP.' + '---' + 'QUERY - Is key based authentication still considered secure ?' + '---' + 'Only answer questions related to secure coding practices. Take a step-by-step approach in your response, cite sources, facts and give reasoning before sharing final answer' + '---' + 'Respond in bulleted list with citations' \n",
    "print('Sending a test completion job with prompt engineering')\n",
    "print('Prompt: ' , phrase_with_prompt)\n",
    "deployment_name='text-davinci-003'\n",
    "response = openai.Completion.create(engine=deployment_name, prompt=phrase_with_prompt, max_tokens=200)\n",
    "text = response['choices'][0]['text']\n",
    "print(text)"
   ]
  },
  {
   "attachments": {},
   "cell_type": "markdown",
   "metadata": {},
   "source": [
    "### Basic Sample - Chat GPT (GPT 3.5 Turbo) model"
   ]
  },
  {
   "cell_type": "code",
   "execution_count": 11,
   "metadata": {},
   "outputs": [
    {
     "name": "stdout",
     "output_type": "stream",
     "text": [
      "Yes, customer managed keys are supported by most of the Azure Cognitive Services including Azure Cognitive Services Text Analytics, Azure Cognitive Services Speech Services, Azure Cognitive Services Language Understanding, and more. You can find more information on customer managed keys for each service in the Azure documentation.\n"
     ]
    }
   ],
   "source": [
    "openai.api_version = \"2023-03-15-preview\"\n",
    "response = openai.ChatCompletion.create(\n",
    "    engine=\"gpt-35-turbo\", # engine = \"deployment_name\".\n",
    "    messages=[\n",
    "        {\"role\": \"system\", \"content\": \"You are a helpful assistant.\"},\n",
    "        {\"role\": \"user\", \"content\": \"Does Azure OpenAI support customer managed keys?\"},\n",
    "        {\"role\": \"assistant\", \"content\": \"Yes, customer managed keys are supported by Azure OpenAI.\"},\n",
    "        {\"role\": \"user\", \"content\": \"Do other Azure Cognitive Services support this too?\"}\n",
    "    ]\n",
    ")\n",
    "print(response['choices'][0]['message']['content'])"
   ]
  },
  {
   "attachments": {},
   "cell_type": "markdown",
   "metadata": {},
   "source": [
    "### Basic Sample - Embeddings model"
   ]
  },
  {
   "cell_type": "code",
   "execution_count": 12,
   "metadata": {},
   "outputs": [
    {
     "name": "stdout",
     "output_type": "stream",
     "text": [
      "0.8789562407146447\n",
      "0.7568887084215334\n"
     ]
    }
   ],
   "source": [
    "from openai.embeddings_utils import get_embedding, cosine_similarity\n",
    "text1 = \"We went to the pizza place and you ate no pizza at all\"\n",
    "text2 = \"I ate pizza with you yesterday at home\"\n",
    "text3 = \"There’s no battery left in my phone\"\n",
    "engine = \"text-embedding-ada-002\"\n",
    "response1 = get_embedding(text1, engine)\n",
    "response2 = get_embedding(text2, engine)\n",
    "response3 = get_embedding(text3, engine)    \n",
    "print(cosine_similarity(response1, response2))\n",
    "print(cosine_similarity(response1, response3))"
   ]
  },
  {
   "attachments": {},
   "cell_type": "markdown",
   "metadata": {},
   "source": [
    "### Basic Sample - Codex Model"
   ]
  },
  {
   "cell_type": "code",
   "execution_count": 13,
   "metadata": {},
   "outputs": [
    {
     "name": "stdout",
     "output_type": "stream",
     "text": [
      ".\n",
      "def nameImporter(first, last):\n",
      "    with sqlite3.connect(\"coffee_shop.db\") as db:\n",
      "        cursor = db.cursor()\n",
      "        sql = \"\"\"insert into Customer(FirstName, LastName)\n",
      "                 values (?,?)\"\"\"\n",
      "        cursor.execute(sql,(first,last))\n",
      "        db.commit()\n",
      "\n",
      "\n"
     ]
    }
   ],
   "source": [
    "response = openai.Completion.create(\n",
    "  engine=\"code-davinci-002\",\n",
    "  prompt=\"# Create a function called 'nameImporter' to add a first and last name to the database\",\n",
    "  temperature=0.2,\n",
    "  max_tokens=200,\n",
    "  top_p=1,\n",
    "  frequency_penalty=0,\n",
    "  presence_penalty=0,\n",
    "  best_of=1,\n",
    "  stop=[\"#\"])\n",
    "print(response['choices'][0]['text'])"
   ]
  }
 ],
 "metadata": {
  "kernelspec": {
   "display_name": ".venv",
   "language": "python",
   "name": "python3"
  },
  "language_info": {
   "codemirror_mode": {
    "name": "ipython",
    "version": 3
   },
   "file_extension": ".py",
   "mimetype": "text/x-python",
   "name": "python",
   "nbconvert_exporter": "python",
   "pygments_lexer": "ipython3",
   "version": "3.11.3"
  },
  "orig_nbformat": 4
 },
 "nbformat": 4,
 "nbformat_minor": 2
}
