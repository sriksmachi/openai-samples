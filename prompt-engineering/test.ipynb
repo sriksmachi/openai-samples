{
 "cells": [
  {
   "cell_type": "code",
   "execution_count": 5,
   "metadata": {},
   "outputs": [],
   "source": [
    "from langchain.embeddings import OpenAIEmbeddings\n",
    "\n",
    "from langchain.vectorstores import Chroma\n",
    "\n",
    "from langchain.chains import RetrievalQA, ConversationalRetrievalChain\n",
    "\n",
    "from langchain.memory import ConversationBufferMemory\n",
    "\n",
    "from langchain.llms import OpenAI\n",
    "\n",
    "from langchain.chat_models import ChatOpenAI\n",
    "\n",
    "\n",
    "from dotenv import load_dotenv\n",
    "\n",
    "import os\n",
    "\n",
    "import openai\n",
    "\n",
    "# Azure\n",
    "load_dotenv()\n",
    "\n",
    "OPENAI_API_KEY = os.getenv(\"OPENAI_API_KEY\")\n",
    "OPENAI_DEPLOYMENT_ENDPOINT = os.getenv(\"OPENAI_DEPLOYMENT_ENDPOINT\")\n",
    "OPENAI_DEPLOYMENT_NAME = os.getenv(\"OPENAI_DEPLOYMENT_NAME\")\n",
    "OPENAI_MODEL_NAME = os.getenv(\"OPENAI_MODEL_NAME\")\n",
    "OPENAI_EMBEDDING_DEPLOYMENT_NAME = os.getenv(\"OPENAI_EMBEDDING_DEPLOYMENT_NAME\")\n",
    "OPENAI_EMBEDDING_MODEL_NAME = os.getenv(\"OPENAI_EMBEDDING_MODEL_NAME\")\n",
    "OPENAI_DEPLOYMENT_VERSION = os.getenv(\"OPENAI_DEPLOYMENT_VERSION\")\n",
    "OPENAI_EMBEDDING_VERSION = os.getenv(\"OPENAI_EMBEDDING_VERSION\")\n",
    "\n",
    "#init Azure OpenAI\n",
    "openai.api_type = \"azure\"\n",
    "openai.api_version = OPENAI_DEPLOYMENT_VERSION\n",
    "openai.api_base = OPENAI_DEPLOYMENT_ENDPOINT\n",
    "openai.api_key = OPENAI_API_KEY"
   ]
  },
  {
   "cell_type": "code",
   "execution_count": 10,
   "metadata": {},
   "outputs": [
    {
     "data": {
      "text/plain": [
       "{'question': 'best hotels',\n",
       " 'chat_history': [HumanMessage(content='best hotels', additional_kwargs={}, example=False),\n",
       "  AIMessage(content='The article mentions several hotels, some of which are:\\n\\n- Majorda Beach Resort: a starred hotel located in Majorda.\\n- 5-star hotel in Bogmalo: located right on the edge of Bogmalo beach.\\n- Several air-conditioned resort complexes, tourist cottages, and guest houses in Colva beach that offer modern amenities.\\n- There are also several smaller and appealing places to stay in Bogmalo.', additional_kwargs={}, example=False)],\n",
       " 'answer': 'The article mentions several hotels, some of which are:\\n\\n- Majorda Beach Resort: a starred hotel located in Majorda.\\n- 5-star hotel in Bogmalo: located right on the edge of Bogmalo beach.\\n- Several air-conditioned resort complexes, tourist cottages, and guest houses in Colva beach that offer modern amenities.\\n- There are also several smaller and appealing places to stay in Bogmalo.'}"
      ]
     },
     "execution_count": 10,
     "metadata": {},
     "output_type": "execute_result"
    }
   ],
   "source": [
    "from langchain.chat_models import AzureChatOpenAI\n",
    "embeddings = OpenAIEmbeddings(model='text-embedding-ada-002', chunk_size=1)\n",
    "db = Chroma(persist_directory='./vectordb', embedding_function=embeddings)\n",
    "retriever = db.as_retriever(search_kwargs={\"k\": 3})\n",
    "llm = AzureChatOpenAI(deployment_name=OPENAI_DEPLOYMENT_NAME,\n",
    "                      model_name=OPENAI_MODEL_NAME,\n",
    "                      openai_api_base=OPENAI_DEPLOYMENT_ENDPOINT,\n",
    "                      openai_api_version=OPENAI_EMBEDDING_VERSION,\n",
    "                      openai_api_key=OPENAI_API_KEY)\n",
    "qa = RetrievalQA.from_chain_type(llm=llm, chain_type=\"stuff\", retriever=retriever)\n",
    "memory = ConversationBufferMemory(memory_key='chat_history', return_messages=True)\n",
    "bitcoin = ConversationalRetrievalChain.from_llm(llm, retriever, memory=memory)\n",
    "result = bitcoin({\n",
    "    \"question\": \"best hotels\"\n",
    "})\n",
    "result"
   ]
  }
 ],
 "metadata": {
  "kernelspec": {
   "display_name": ".venv",
   "language": "python",
   "name": "python3"
  },
  "language_info": {
   "codemirror_mode": {
    "name": "ipython",
    "version": 3
   },
   "file_extension": ".py",
   "mimetype": "text/x-python",
   "name": "python",
   "nbconvert_exporter": "python",
   "pygments_lexer": "ipython3",
   "version": "3.11.4"
  },
  "orig_nbformat": 4
 },
 "nbformat": 4,
 "nbformat_minor": 2
}
